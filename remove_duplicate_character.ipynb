{
  "nbformat": 4,
  "nbformat_minor": 0,
  "metadata": {
    "colab": {
      "name": "remove-duplicate-character.ipynb",
      "provenance": [],
      "authorship_tag": "ABX9TyN77AJNso2HjrlaIMjTXJX9",
      "include_colab_link": true
    },
    "kernelspec": {
      "name": "python3",
      "display_name": "Python 3"
    }
  },
  "cells": [
    {
      "cell_type": "markdown",
      "metadata": {
        "id": "view-in-github",
        "colab_type": "text"
      },
      "source": [
        "<a href=\"https://colab.research.google.com/github/aditya270520/100Daysofpython/blob/main/remove_duplicate_character.ipynb\" target=\"_parent\"><img src=\"https://colab.research.google.com/assets/colab-badge.svg\" alt=\"Open In Colab\"/></a>"
      ]
    },
    {
      "cell_type": "code",
      "metadata": {
        "colab": {
          "base_uri": "https://localhost:8080/"
        },
        "id": "GGzF3YbAQ5xx",
        "outputId": "11ddb21d-6dc7-47af-e744-23df9480c805"
      },
      "source": [
        "def remove_duplicate(your_str):\n",
        "   result = ''\n",
        "   for char in your_str:\n",
        "       if char not in result:\n",
        "           result += char\n",
        "   return result\n",
        " \n",
        "user_input = input('what is your string:')\n",
        " \n",
        "no_duplicate = remove_duplicate(user_input)\n",
        "print('Without duplicate: ', no_duplicate)"
      ],
      "execution_count": 3,
      "outputs": [
        {
          "output_type": "stream",
          "text": [
            "what is your string:hii myself aditya bhushan sharma\n",
            "Without duplicate:  hi myselfadtbunr\n"
          ],
          "name": "stdout"
        }
      ]
    }
  ]
}