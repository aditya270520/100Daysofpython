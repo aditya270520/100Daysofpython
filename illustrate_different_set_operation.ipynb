{
  "nbformat": 4,
  "nbformat_minor": 0,
  "metadata": {
    "colab": {
      "name": "illustrate_different_set_operation.ipynb",
      "provenance": [],
      "authorship_tag": "ABX9TyPXYr1R+j7qHFYVqzDJn6G8",
      "include_colab_link": true
    },
    "kernelspec": {
      "name": "python3",
      "display_name": "Python 3"
    }
  },
  "cells": [
    {
      "cell_type": "markdown",
      "metadata": {
        "id": "view-in-github",
        "colab_type": "text"
      },
      "source": [
        "<a href=\"https://colab.research.google.com/github/aditya270520/100Daysofpython/blob/main/illustrate_different_set_operation.ipynb\" target=\"_parent\"><img src=\"https://colab.research.google.com/assets/colab-badge.svg\" alt=\"Open In Colab\"/></a>"
      ]
    },
    {
      "cell_type": "code",
      "metadata": {
        "colab": {
          "base_uri": "https://localhost:8080/"
        },
        "id": "6ygzURzgrbLd",
        "outputId": "9c1dbe5f-82d1-4d8b-eae9-016d5ff12f4c"
      },
      "source": [
        "E = {0, 2, 4, 6, 8};\n",
        "N = {1, 2, 3, 4, 5};\n",
        "\n",
        "print(\"Union of E and N is\",E | N)\n",
        "\n",
        "print(\"Intersection of E and N is\",E & N)\n",
        "\n",
        "print(\"Difference of E and N is\",E - N)\n",
        "\n",
        "print(\"Symmetric difference of E and N is\",E ^ N)"
      ],
      "execution_count": 1,
      "outputs": [
        {
          "output_type": "stream",
          "text": [
            "Union of E and N is {0, 1, 2, 3, 4, 5, 6, 8}\n",
            "Intersection of E and N is {2, 4}\n",
            "Difference of E and N is {0, 8, 6}\n",
            "Symmetric difference of E and N is {0, 1, 3, 5, 6, 8}\n"
          ],
          "name": "stdout"
        }
      ]
    }
  ]
}