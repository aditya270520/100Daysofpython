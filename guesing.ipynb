{
  "nbformat": 4,
  "nbformat_minor": 0,
  "metadata": {
    "colab": {
      "name": "guesing.ipynb",
      "provenance": [],
      "authorship_tag": "ABX9TyMzK5RQD09+G29iUg3w9I8h",
      "include_colab_link": true
    },
    "kernelspec": {
      "name": "python3",
      "display_name": "Python 3"
    }
  },
  "cells": [
    {
      "cell_type": "markdown",
      "metadata": {
        "id": "view-in-github",
        "colab_type": "text"
      },
      "source": [
        "<a href=\"https://colab.research.google.com/github/aditya270520/100Daysofpython/blob/main/guesing.ipynb\" target=\"_parent\"><img src=\"https://colab.research.google.com/assets/colab-badge.svg\" alt=\"Open In Colab\"/></a>"
      ]
    },
    {
      "cell_type": "code",
      "metadata": {
        "id": "ozpWeGRJ5EdS"
      },
      "source": [
        "import random\n",
        "print('To stop anytime, enter: q')\n",
        "score = 0\n",
        "while True:\n",
        "  num = random.randint(0,10)\n",
        "  guess = input(\"Guess a number between 0 to 10: \")\n",
        "  if guess == 'q':\n",
        "      print('Game Over.')\n",
        "      break\n",
        "  guess_num = int(guess)\n",
        "  if guess_num is num:\n",
        "      print('CONGRATS, you guessed it correctly')\n",
        "      score += 10\n",
        "      print('Your new score:', score)\n",
        "  else:\n",
        "      print('Your guess did not match')\n",
        "      print('The number was:', num)"
      ],
      "execution_count": null,
      "outputs": []
    }
  ]
}