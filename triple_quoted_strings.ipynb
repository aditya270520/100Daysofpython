{
  "nbformat": 4,
  "nbformat_minor": 0,
  "metadata": {
    "colab": {
      "name": "triple-quoted_strings.ipynb",
      "provenance": [],
      "authorship_tag": "ABX9TyPWhKvIm7OHyWYbDjKlDClr",
      "include_colab_link": true
    },
    "kernelspec": {
      "name": "python3",
      "display_name": "Python 3"
    }
  },
  "cells": [
    {
      "cell_type": "markdown",
      "metadata": {
        "id": "view-in-github",
        "colab_type": "text"
      },
      "source": [
        "<a href=\"https://colab.research.google.com/github/aditya270520/100Daysofpython/blob/main/triple_quoted_strings.ipynb\" target=\"_parent\"><img src=\"https://colab.research.google.com/assets/colab-badge.svg\" alt=\"Open In Colab\"/></a>"
      ]
    },
    {
      "cell_type": "code",
      "metadata": {
        "colab": {
          "base_uri": "https://localhost:8080/"
        },
        "id": "shZGvfpv5QaM",
        "outputId": "6dff7658-5fa1-4b20-e55f-93fc04213d7e"
      },
      "source": [
        "REFRAIN = '''\n",
        "%d bottles of beer on the wall,\n",
        "%d bottles of beer,\n",
        "take one down, pass it around,\n",
        "%d bottles of beer on the wall!\n",
        "'''\n",
        "bottles_of_beer = 9\n",
        "while bottles_of_beer > 1:\n",
        "    print (REFRAIN % (bottles_of_beer, bottles_of_beer,\n",
        "        bottles_of_beer - 1))\n",
        "    bottles_of_beer -= 1"
      ],
      "execution_count": 2,
      "outputs": [
        {
          "output_type": "stream",
          "text": [
            "\n",
            "9 bottles of beer on the wall,\n",
            "9 bottles of beer,\n",
            "take one down, pass it around,\n",
            "8 bottles of beer on the wall!\n",
            "\n",
            "\n",
            "8 bottles of beer on the wall,\n",
            "8 bottles of beer,\n",
            "take one down, pass it around,\n",
            "7 bottles of beer on the wall!\n",
            "\n",
            "\n",
            "7 bottles of beer on the wall,\n",
            "7 bottles of beer,\n",
            "take one down, pass it around,\n",
            "6 bottles of beer on the wall!\n",
            "\n",
            "\n",
            "6 bottles of beer on the wall,\n",
            "6 bottles of beer,\n",
            "take one down, pass it around,\n",
            "5 bottles of beer on the wall!\n",
            "\n",
            "\n",
            "5 bottles of beer on the wall,\n",
            "5 bottles of beer,\n",
            "take one down, pass it around,\n",
            "4 bottles of beer on the wall!\n",
            "\n",
            "\n",
            "4 bottles of beer on the wall,\n",
            "4 bottles of beer,\n",
            "take one down, pass it around,\n",
            "3 bottles of beer on the wall!\n",
            "\n",
            "\n",
            "3 bottles of beer on the wall,\n",
            "3 bottles of beer,\n",
            "take one down, pass it around,\n",
            "2 bottles of beer on the wall!\n",
            "\n",
            "\n",
            "2 bottles of beer on the wall,\n",
            "2 bottles of beer,\n",
            "take one down, pass it around,\n",
            "1 bottles of beer on the wall!\n",
            "\n"
          ],
          "name": "stdout"
        }
      ]
    }
  ]
}