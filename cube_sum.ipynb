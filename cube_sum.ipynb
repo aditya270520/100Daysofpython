{
  "nbformat": 4,
  "nbformat_minor": 0,
  "metadata": {
    "colab": {
      "name": "cube-sum.ipynb",
      "provenance": [],
      "authorship_tag": "ABX9TyPB/2uixFRFIISJjX0AXLgv",
      "include_colab_link": true
    },
    "kernelspec": {
      "name": "python3",
      "display_name": "Python 3"
    }
  },
  "cells": [
    {
      "cell_type": "markdown",
      "metadata": {
        "id": "view-in-github",
        "colab_type": "text"
      },
      "source": [
        "<a href=\"https://colab.research.google.com/github/aditya270520/100Daysofpython/blob/main/cube_sum.ipynb\" target=\"_parent\"><img src=\"https://colab.research.google.com/assets/colab-badge.svg\" alt=\"Open In Colab\"/></a>"
      ]
    },
    {
      "cell_type": "code",
      "metadata": {
        "colab": {
          "base_uri": "https://localhost:8080/"
        },
        "id": "5BbSVPe1hb6u",
        "outputId": "40e4b5a2-c46a-4386-96fa-3b878daf66f8"
      },
      "source": [
        "n = int(input('Enter a number: '))\n",
        "sum = (n*(n+1)/2)**2\n",
        "print('Your sum of cubes are: ', sum)"
      ],
      "execution_count": 1,
      "outputs": [
        {
          "output_type": "stream",
          "text": [
            "Enter a number: 9\n",
            "Your sum of cubes are:  2025.0\n"
          ],
          "name": "stdout"
        }
      ]
    }
  ]
}