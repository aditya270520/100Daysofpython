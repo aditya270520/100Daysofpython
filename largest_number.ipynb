{
  "nbformat": 4,
  "nbformat_minor": 0,
  "metadata": {
    "colab": {
      "name": "largest-number.ipynb",
      "provenance": [],
      "authorship_tag": "ABX9TyPZjjrlrUUgwGOeuPeysITX",
      "include_colab_link": true
    },
    "kernelspec": {
      "name": "python3",
      "display_name": "Python 3"
    }
  },
  "cells": [
    {
      "cell_type": "markdown",
      "metadata": {
        "id": "view-in-github",
        "colab_type": "text"
      },
      "source": [
        "<a href=\"https://colab.research.google.com/github/aditya270520/100Daysofpython/blob/main/largest_number.ipynb\" target=\"_parent\"><img src=\"https://colab.research.google.com/assets/colab-badge.svg\" alt=\"Open In Colab\"/></a>"
      ]
    },
    {
      "cell_type": "code",
      "metadata": {
        "colab": {
          "base_uri": "https://localhost:8080/"
        },
        "id": "Ty9wLvefEhre",
        "outputId": "9b79f3e0-669f-4a8d-b83c-1dff227da879"
      },
      "source": [
        "nums = [41, 69, 23, 45, 19, 8]\n",
        "\n",
        "largest = max(nums)\n",
        "print(largest)"
      ],
      "execution_count": 1,
      "outputs": [
        {
          "output_type": "stream",
          "text": [
            "69\n"
          ],
          "name": "stdout"
        }
      ]
    }
  ]
}