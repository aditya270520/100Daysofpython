{
  "nbformat": 4,
  "nbformat_minor": 0,
  "metadata": {
    "colab": {
      "name": "intertools.ipynb",
      "provenance": [],
      "authorship_tag": "ABX9TyO8Yph+HvNgsScku4c3QPhs",
      "include_colab_link": true
    },
    "kernelspec": {
      "name": "python3",
      "display_name": "Python 3"
    }
  },
  "cells": [
    {
      "cell_type": "markdown",
      "metadata": {
        "id": "view-in-github",
        "colab_type": "text"
      },
      "source": [
        "<a href=\"https://colab.research.google.com/github/aditya270520/100Daysofpython/blob/main/intertools.ipynb\" target=\"_parent\"><img src=\"https://colab.research.google.com/assets/colab-badge.svg\" alt=\"Open In Colab\"/></a>"
      ]
    },
    {
      "cell_type": "code",
      "metadata": {
        "colab": {
          "base_uri": "https://localhost:8080/"
        },
        "id": "rOjUHTvcrU4x",
        "outputId": "14c3fd21-e673-4d11-f6f1-44b8ed01e1d3"
      },
      "source": [
        "from itertools import groupby\n",
        "lines = '''\n",
        "This is the\n",
        "first paragraph.\n",
        "\n",
        "This is the second.\n",
        "'''.splitlines()\n",
        "for has_chars, frags in groupby(lines, bool):\n",
        "    if has_chars:\n",
        "        print (' '.join(frags))\n"
      ],
      "execution_count": 1,
      "outputs": [
        {
          "output_type": "stream",
          "text": [
            "This is the first paragraph.\n",
            "This is the second.\n"
          ],
          "name": "stdout"
        }
      ]
    }
  ]
}