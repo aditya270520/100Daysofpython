{
  "nbformat": 4,
  "nbformat_minor": 0,
  "metadata": {
    "colab": {
      "name": "simple_clock.ipynb",
      "provenance": [],
      "collapsed_sections": [],
      "authorship_tag": "ABX9TyMeQDmGrBQlYTHXBOJxWcv6",
      "include_colab_link": true
    },
    "kernelspec": {
      "name": "python3",
      "display_name": "Python 3"
    }
  },
  "cells": [
    {
      "cell_type": "markdown",
      "metadata": {
        "id": "view-in-github",
        "colab_type": "text"
      },
      "source": [
        "<a href=\"https://colab.research.google.com/github/aditya270520/100Daysofpython/blob/main/simple_clock.ipynb\" target=\"_parent\"><img src=\"https://colab.research.google.com/assets/colab-badge.svg\" alt=\"Open In Colab\"/></a>"
      ]
    },
    {
      "cell_type": "code",
      "metadata": {
        "colab": {
          "base_uri": "https://localhost:8080/"
        },
        "id": "hYrKwHKkO0FG",
        "outputId": "0ef3f966-668b-4f2a-a746-cecc33fa3a32"
      },
      "source": [
        "import time\n",
        " \n",
        "print('Simple clock made by ADITYA BHUSHAN SHARMA:\\n')\n",
        " \n",
        "hour = int(input(\"Type in the current hour:\"))\n",
        "minute = int(input(\"Type in the current minute:\"))\n",
        "second = int(input(\"Type in the current second:\"))\n",
        " \n",
        "def display():\n",
        "\tprint(hour, ':', minute, ':', second)\n",
        " \n",
        "def add():\n",
        "\tglobal hour\n",
        "\tglobal minute\n",
        "\tglobal second\n",
        "\t\n",
        "\tsecond=second+1\n",
        "\tif second==60:\n",
        "\t\tminute=minute+1 \n",
        "\t\tsecond=0\n",
        "\tif minute==60:\n",
        "\t\thour=hour+1 \n",
        "\t\tminute=0\n",
        "\tif hour==24:\n",
        "\t\thour=0\n",
        " \n",
        "print('\\n')\n",
        " \n",
        "while True:\n",
        "\ttime.sleep(1)\n",
        "\tadd()\n",
        "\tdisplay()"
      ],
      "execution_count": null,
      "outputs": [
        {
          "output_type": "stream",
          "text": [
            "Simple clock made by ADITYA BHUSHAN SHARMA:\n",
            "\n",
            "Type in the current hour:09\n",
            "Type in the current minute:09\n",
            "Type in the current second:09\n",
            "\n",
            "\n",
            "9 : 9 : 10\n",
            "9 : 9 : 11\n",
            "9 : 9 : 12\n",
            "9 : 9 : 13\n",
            "9 : 9 : 14\n",
            "9 : 9 : 15\n",
            "9 : 9 : 16\n",
            "9 : 9 : 17\n",
            "9 : 9 : 18\n",
            "9 : 9 : 19\n",
            "9 : 9 : 20\n",
            "9 : 9 : 21\n",
            "9 : 9 : 22\n",
            "9 : 9 : 23\n",
            "9 : 9 : 24\n",
            "9 : 9 : 25\n",
            "9 : 9 : 26\n",
            "9 : 9 : 27\n",
            "9 : 9 : 28\n",
            "9 : 9 : 29\n",
            "9 : 9 : 30\n",
            "9 : 9 : 31\n",
            "9 : 9 : 32\n",
            "9 : 9 : 33\n",
            "9 : 9 : 34\n",
            "9 : 9 : 35\n",
            "9 : 9 : 36\n",
            "9 : 9 : 37\n",
            "9 : 9 : 38\n",
            "9 : 9 : 39\n",
            "9 : 9 : 40\n",
            "9 : 9 : 41\n",
            "9 : 9 : 42\n",
            "9 : 9 : 43\n",
            "9 : 9 : 44\n"
          ],
          "name": "stdout"
        }
      ]
    }
  ]
}