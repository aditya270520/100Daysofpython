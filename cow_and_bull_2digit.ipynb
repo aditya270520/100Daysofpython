{
  "nbformat": 4,
  "nbformat_minor": 0,
  "metadata": {
    "colab": {
      "name": "cow-and-bull-2digit.ipynb",
      "provenance": [],
      "authorship_tag": "ABX9TyNx14gaEzeDYSoM+XzmjPey",
      "include_colab_link": true
    },
    "kernelspec": {
      "name": "python3",
      "display_name": "Python 3"
    }
  },
  "cells": [
    {
      "cell_type": "markdown",
      "metadata": {
        "id": "view-in-github",
        "colab_type": "text"
      },
      "source": [
        "<a href=\"https://colab.research.google.com/github/aditya270520/100Daysofpython/blob/main/cow_and_bull_2digit.ipynb\" target=\"_parent\"><img src=\"https://colab.research.google.com/assets/colab-badge.svg\" alt=\"Open In Colab\"/></a>"
      ]
    },
    {
      "cell_type": "code",
      "metadata": {
        "id": "jSXh7gdP5Dst"
      },
      "source": [
        "import random\n",
        " \n",
        "secret_number = str(random.randint(10, 99))\n",
        "print(\"Guess the number. It contains 2 digits.\")\n",
        " \n",
        "remaining_try = 7\n",
        " \n",
        "while remaining_try > 0:\n",
        "   player_guess = input(\"Enter your guess: \")\n",
        "   \n",
        "   if player_guess == secret_number:\n",
        "       print(\"Yay, you guessed it!\")\n",
        "       print(\"YOU WIN.\")\n",
        "       break\n",
        "   else:\n",
        "       bulls = 0\n",
        "       cows = 0\n",
        "      \n",
        "       if player_guess[0] == secret_number[0]:\n",
        "           bulls += 1\n",
        "       if player_guess[1] == secret_number[1]:\n",
        "           bulls += 1\n",
        "       if player_guess[0] == secret_number[1]:\n",
        "           cows += 1\n",
        "       if player_guess[1] == secret_number[0]:\n",
        "           cows += 1\n",
        " \n",
        "       print(\"Bulls: \",bulls)\n",
        "       print(\"Cows: \",cows)\n",
        " \n",
        "       remaining_try -= 1\n",
        " \n",
        "       if remaining_try < 1:\n",
        "           print(\"You lost the game.\")\n",
        "           break"
      ],
      "execution_count": null,
      "outputs": []
    }
  ]
}