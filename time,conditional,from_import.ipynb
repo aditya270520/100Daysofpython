{
  "nbformat": 4,
  "nbformat_minor": 0,
  "metadata": {
    "colab": {
      "name": "time,conditional,from_import.ipynb",
      "provenance": [],
      "authorship_tag": "ABX9TyP33T1ZZwBWDrYxq13cMakc",
      "include_colab_link": true
    },
    "kernelspec": {
      "name": "python3",
      "display_name": "Python 3"
    }
  },
  "cells": [
    {
      "cell_type": "markdown",
      "metadata": {
        "id": "view-in-github",
        "colab_type": "text"
      },
      "source": [
        "<a href=\"https://colab.research.google.com/github/aditya270520/100Daysofpython/blob/main/time%2Cconditional%2Cfrom_import.ipynb\" target=\"_parent\"><img src=\"https://colab.research.google.com/assets/colab-badge.svg\" alt=\"Open In Colab\"/></a>"
      ]
    },
    {
      "cell_type": "code",
      "metadata": {
        "id": "wN_qpdF6wB47",
        "colab": {
          "base_uri": "https://localhost:8080/"
        },
        "outputId": "ff5c82f4-c3c5-4288-f8fc-117a48027491"
      },
      "source": [
        "from time import localtime\n",
        "\n",
        "activities = {8: 'Sleeping',\n",
        "              9: 'Commuting',\n",
        "              17: 'Working',\n",
        "              18: 'Commuting',\n",
        "              20: 'Eating',\n",
        "              22: 'Resting' }\n",
        "\n",
        "time_now = localtime()\n",
        "hour = time_now.tm_hour\n",
        "\n",
        "for activity_time in sorted(activities.keys()):\n",
        "    if hour < activity_time:\n",
        "        print (activities[activity_time])\n",
        "        break\n",
        "else:\n",
        "    print ('Unknown, AFK or sleeping!')"
      ],
      "execution_count": 9,
      "outputs": [
        {
          "output_type": "stream",
          "text": [
            "Sleeping\n"
          ],
          "name": "stdout"
        }
      ]
    }
  ]
}