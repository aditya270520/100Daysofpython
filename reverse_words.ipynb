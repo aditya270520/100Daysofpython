{
  "nbformat": 4,
  "nbformat_minor": 0,
  "metadata": {
    "colab": {
      "name": "reverse-words.ipynb",
      "provenance": [],
      "authorship_tag": "ABX9TyOV5o08c0r0WNyPX3pN2xHM",
      "include_colab_link": true
    },
    "kernelspec": {
      "name": "python3",
      "display_name": "Python 3"
    }
  },
  "cells": [
    {
      "cell_type": "markdown",
      "metadata": {
        "id": "view-in-github",
        "colab_type": "text"
      },
      "source": [
        "<a href=\"https://colab.research.google.com/github/aditya270520/100Daysofpython/blob/main/reverse_words.ipynb\" target=\"_parent\"><img src=\"https://colab.research.google.com/assets/colab-badge.svg\" alt=\"Open In Colab\"/></a>"
      ]
    },
    {
      "cell_type": "code",
      "metadata": {
        "colab": {
          "base_uri": "https://localhost:8080/"
        },
        "id": "VWhDEuPRaz3N",
        "outputId": "9c5e9424-73ba-44f2-91d2-6bc6b681116c"
      },
      "source": [
        "def reverse_words(sentence):\n",
        "   words = sentence.split()\n",
        "   words.reverse()\n",
        "   return \" \".join(words)\n",
        " \n",
        "usr_input = input(\"Enter a sentence: \")\n",
        "reverse = reverse_words(usr_input)\n",
        "print('Reversed words are: ', reverse)"
      ],
      "execution_count": 1,
      "outputs": [
        {
          "output_type": "stream",
          "text": [
            "Enter a sentence: being a champion ADITYA BHUSHAN SHARMA\n",
            "Reversed words are:  SHARMA BHUSHAN ADITYA champion a being\n"
          ],
          "name": "stdout"
        }
      ]
    }
  ]
}