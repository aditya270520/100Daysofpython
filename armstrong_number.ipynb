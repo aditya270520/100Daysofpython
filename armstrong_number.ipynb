{
  "nbformat": 4,
  "nbformat_minor": 0,
  "metadata": {
    "colab": {
      "name": "armstrong-number.ipynb",
      "provenance": [],
      "authorship_tag": "ABX9TyMDuGVerKpi6kP072PTa4EX",
      "include_colab_link": true
    },
    "kernelspec": {
      "name": "python3",
      "display_name": "Python 3"
    }
  },
  "cells": [
    {
      "cell_type": "markdown",
      "metadata": {
        "id": "view-in-github",
        "colab_type": "text"
      },
      "source": [
        "<a href=\"https://colab.research.google.com/github/aditya270520/100Daysofpython/blob/main/armstrong_number.ipynb\" target=\"_parent\"><img src=\"https://colab.research.google.com/assets/colab-badge.svg\" alt=\"Open In Colab\"/></a>"
      ]
    },
    {
      "cell_type": "code",
      "metadata": {
        "colab": {
          "base_uri": "https://localhost:8080/"
        },
        "id": "toV3ucMdwSGV",
        "outputId": "6cc1148a-bfae-4936-f3c3-ba35c1c54887"
      },
      "source": [
        "def check_armstrong(num):\n",
        "\torder = len(str(num))\n",
        "\t\n",
        "\tsum = 0\n",
        "\t\n",
        "\t# use temp to find each digit. Then power it\n",
        "\ttemp = num\n",
        "\twhile temp > 0:\n",
        "\t\tdigit = temp % 10\n",
        "\t\tsum += digit ** order\n",
        "\t\ttemp //= 10\n",
        "\treturn num == sum\n",
        " \n",
        "num = int(input('Enter your number: '))\n",
        " \n",
        "if check_armstrong(num):\n",
        "\tprint(num,\"is an Armstrong number\")\n",
        "else:\n",
        "\tprint(num,\"is not an Armstrong number\")\n"
      ],
      "execution_count": 1,
      "outputs": [
        {
          "output_type": "stream",
          "text": [
            "Enter your number: 10\n",
            "10 is not an Armstrong number\n"
          ],
          "name": "stdout"
        }
      ]
    }
  ]
}