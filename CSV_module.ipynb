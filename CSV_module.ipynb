{
  "nbformat": 4,
  "nbformat_minor": 0,
  "metadata": {
    "colab": {
      "name": "CSV_module.ipynb",
      "provenance": [],
      "authorship_tag": "ABX9TyMLk+MVXV6MoEe5o4cB6ZBx",
      "include_colab_link": true
    },
    "kernelspec": {
      "name": "python3",
      "display_name": "Python 3"
    }
  },
  "cells": [
    {
      "cell_type": "markdown",
      "metadata": {
        "id": "view-in-github",
        "colab_type": "text"
      },
      "source": [
        "<a href=\"https://colab.research.google.com/github/aditya270520/100Daysofpython/blob/main/CSV_module.ipynb\" target=\"_parent\"><img src=\"https://colab.research.google.com/assets/colab-badge.svg\" alt=\"Open In Colab\"/></a>"
      ]
    },
    {
      "cell_type": "code",
      "metadata": {
        "colab": {
          "base_uri": "https://localhost:8080/"
        },
        "id": "roArvJqwK3QP",
        "outputId": "efe1bace-4ef6-4fe0-d2f9-faed71338242"
      },
      "source": [
        "import csv\n",
        "\n",
        "def cmp(a, b):\n",
        "    return (a > b) - (a < b)\n",
        "\n",
        "with open('stocks.csv', 'w', newline='') as stocksFileW:\n",
        "    writer = csv.writer(stocksFileW)\n",
        "    writer.writerows([\n",
        "        ['GOOG', 'Google, Inc.', 505.24, 0.47, 0.09],\n",
        "        ['YHOO', 'Yahoo! Inc.', 27.38, 0.33, 1.22],\n",
        "        ['CNET', 'CNET Networks, Inc.', 8.62, -0.13, -1.4901]\n",
        "    ])\n",
        "\n",
        "with open('stocks.csv', 'r') as stocksFile:\n",
        "    stocks = csv.reader(stocksFile)\n",
        "\n",
        "    status_labels = {-1: 'down', 0: 'unchanged', 1: 'up'}\n",
        "    for ticker, name, price, change, pct in stocks:\n",
        "        status = status_labels[cmp(float(change), 0.0)]\n",
        "        print ('%s is %s (%.2f)' % (name, status, float(pct)))"
      ],
      "execution_count": 2,
      "outputs": [
        {
          "output_type": "stream",
          "text": [
            "Google, Inc. is up (0.09)\n",
            "Yahoo! Inc. is up (1.22)\n",
            "CNET Networks, Inc. is down (-1.49)\n"
          ],
          "name": "stdout"
        }
      ]
    }
  ]
}