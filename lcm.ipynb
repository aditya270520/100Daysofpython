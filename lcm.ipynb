{
  "nbformat": 4,
  "nbformat_minor": 0,
  "metadata": {
    "colab": {
      "name": "lcm.ipynb",
      "provenance": [],
      "authorship_tag": "ABX9TyPh+zKMhycufuMbCSpbIhIV",
      "include_colab_link": true
    },
    "kernelspec": {
      "name": "python3",
      "display_name": "Python 3"
    }
  },
  "cells": [
    {
      "cell_type": "markdown",
      "metadata": {
        "id": "view-in-github",
        "colab_type": "text"
      },
      "source": [
        "<a href=\"https://colab.research.google.com/github/aditya270520/100Daysofpython/blob/main/lcm.ipynb\" target=\"_parent\"><img src=\"https://colab.research.google.com/assets/colab-badge.svg\" alt=\"Open In Colab\"/></a>"
      ]
    },
    {
      "cell_type": "code",
      "metadata": {
        "colab": {
          "base_uri": "https://localhost:8080/"
        },
        "id": "VWxQOTSXHf6o",
        "outputId": "3e9674a1-c43e-4371-90bc-3efb34c48f5d"
      },
      "source": [
        "def calculate_lcm(x, y):\n",
        "\tlcm = max(x,y)\n",
        "\twhile lcm % x != 0 or lcm % y != 0:\n",
        "\t\tlcm += 1\n",
        "\treturn lcm\n",
        " \n",
        "num1 = int(input(\"First number: \"))\n",
        "num2 = int(input(\"Second number: \"))\n",
        "lcm = calculate_lcm(num1, num2)\n",
        " \n",
        "print(f\"LCM of {num1} and {num2} is: {lcm}\")"
      ],
      "execution_count": 1,
      "outputs": [
        {
          "output_type": "stream",
          "text": [
            "First number: 99\n",
            "Second number: 999\n",
            "LCM of 99 and 999 is: 10989\n"
          ],
          "name": "stdout"
        }
      ]
    }
  ]
}