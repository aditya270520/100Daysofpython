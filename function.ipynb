{
  "nbformat": 4,
  "nbformat_minor": 0,
  "metadata": {
    "colab": {
      "name": "function.ipynb",
      "provenance": [],
      "authorship_tag": "ABX9TyMGjJ3E5z6VcKcnXYlC/hRS",
      "include_colab_link": true
    },
    "kernelspec": {
      "name": "python3",
      "display_name": "Python 3"
    }
  },
  "cells": [
    {
      "cell_type": "markdown",
      "metadata": {
        "id": "view-in-github",
        "colab_type": "text"
      },
      "source": [
        "<a href=\"https://colab.research.google.com/github/aditya270520/100Daysofpython/blob/main/function.ipynb\" target=\"_parent\"><img src=\"https://colab.research.google.com/assets/colab-badge.svg\" alt=\"Open In Colab\"/></a>"
      ]
    },
    {
      "cell_type": "code",
      "metadata": {
        "colab": {
          "base_uri": "https://localhost:8080/"
        },
        "id": "Hwhz2f548-mv",
        "outputId": "929623ce-d81e-46c4-9e1f-c8b29e4b6ea9"
      },
      "source": [
        "def greet(name):\n",
        "    print ('Hello', name)\n",
        "\n",
        "greet('parth')\n",
        "greet('sankalp')\n",
        "greet('bobby')"
      ],
      "execution_count": 2,
      "outputs": [
        {
          "output_type": "stream",
          "text": [
            "Hello parth\n",
            "Hello sankalp\n",
            "Hello bobby\n"
          ],
          "name": "stdout"
        }
      ]
    }
  ]
}