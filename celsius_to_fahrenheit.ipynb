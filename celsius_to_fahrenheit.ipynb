{
  "nbformat": 4,
  "nbformat_minor": 0,
  "metadata": {
    "colab": {
      "name": "celsius_to_fahrenheit.ipynb",
      "provenance": [],
      "authorship_tag": "ABX9TyPiT9Eb1hh8HVje8KerNDlJ",
      "include_colab_link": true
    },
    "kernelspec": {
      "name": "python3",
      "display_name": "Python 3"
    }
  },
  "cells": [
    {
      "cell_type": "markdown",
      "metadata": {
        "id": "view-in-github",
        "colab_type": "text"
      },
      "source": [
        "<a href=\"https://colab.research.google.com/github/aditya270520/100Daysofpython/blob/main/celsius_to_fahrenheit.ipynb\" target=\"_parent\"><img src=\"https://colab.research.google.com/assets/colab-badge.svg\" alt=\"Open In Colab\"/></a>"
      ]
    },
    {
      "cell_type": "code",
      "metadata": {
        "colab": {
          "base_uri": "https://localhost:8080/"
        },
        "id": "mrQQjSee1Jvr",
        "outputId": "923a8c31-30f9-4a7b-b211-36f09f9284a7"
      },
      "source": [
        "celsius = float(input(\"Enter temperature in degrees Celsius: \"))\n",
        " \n",
        "fahrenheit = celsius*9/5+32\n",
        " \n",
        "print(\"Temperature in Fahrenheit:\", fahrenheit)"
      ],
      "execution_count": 1,
      "outputs": [
        {
          "output_type": "stream",
          "text": [
            "Enter temperature in degrees Celsius: 36\n",
            "Temperature in Fahrenheit: 96.8\n"
          ],
          "name": "stdout"
        }
      ]
    }
  ]
}