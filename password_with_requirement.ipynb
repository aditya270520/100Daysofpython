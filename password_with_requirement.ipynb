{
  "nbformat": 4,
  "nbformat_minor": 0,
  "metadata": {
    "colab": {
      "name": "password-with-requirement.ipynb",
      "provenance": [],
      "authorship_tag": "ABX9TyOiZV6631rPZ7LhHnzaM4vn",
      "include_colab_link": true
    },
    "kernelspec": {
      "name": "python3",
      "display_name": "Python 3"
    }
  },
  "cells": [
    {
      "cell_type": "markdown",
      "metadata": {
        "id": "view-in-github",
        "colab_type": "text"
      },
      "source": [
        "<a href=\"https://colab.research.google.com/github/aditya270520/100Daysofpython/blob/main/password_with_requirement.ipynb\" target=\"_parent\"><img src=\"https://colab.research.google.com/assets/colab-badge.svg\" alt=\"Open In Colab\"/></a>"
      ]
    },
    {
      "cell_type": "code",
      "metadata": {
        "colab": {
          "base_uri": "https://localhost:8080/"
        },
        "id": "HuFeB3-snQwC",
        "outputId": "e4c5dd04-a252-4782-d00a-957a9eb983ab"
      },
      "source": [
        "import random\n",
        "import string\n",
        " \n",
        "def randomPassword(size):\n",
        "\tall_chars = string.ascii_letters + string.digits + string.punctuation\n",
        "\tpassword = \"\"\n",
        "\tpassword += random.choice(string.ascii_lowercase)\n",
        "\tpassword += random.choice(string.ascii_uppercase)\n",
        "\tpassword += random.choice(string.digits)\n",
        "\tpassword += random.choice(string.punctuation)\n",
        "\t\n",
        "\tfor i in range(size-4):\n",
        "\t\tpassword += random.choice(all_chars)\n",
        "\treturn password\n",
        " \n",
        "pass_len = int(input(\"What would be the password length? \"))\n",
        "print (\"First Random Password is:\", randomPassword(pass_len))\n",
        "print (\"Second Random Password is:\", randomPassword(pass_len))\n",
        "print (\"Third Random Password is:\", randomPassword(pass_len))\n"
      ],
      "execution_count": 1,
      "outputs": [
        {
          "output_type": "stream",
          "text": [
            "What would be the password length? 8\n",
            "First Random Password is: cR3/id5V\n",
            "Second Random Password is: jX2@J<N_\n",
            "Third Random Password is: dA3%8,mC\n"
          ],
          "name": "stdout"
        }
      ]
    }
  ]
}