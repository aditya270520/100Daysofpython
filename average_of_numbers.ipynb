{
  "nbformat": 4,
  "nbformat_minor": 0,
  "metadata": {
    "colab": {
      "name": "average-of-numbers.ipynb",
      "provenance": [],
      "authorship_tag": "ABX9TyO+sOwJJmkFm+mw6YMBHkWI",
      "include_colab_link": true
    },
    "kernelspec": {
      "name": "python3",
      "display_name": "Python 3"
    }
  },
  "cells": [
    {
      "cell_type": "markdown",
      "metadata": {
        "id": "view-in-github",
        "colab_type": "text"
      },
      "source": [
        "<a href=\"https://colab.research.google.com/github/aditya270520/100Daysofpython/blob/main/average_of_numbers.ipynb\" target=\"_parent\"><img src=\"https://colab.research.google.com/assets/colab-badge.svg\" alt=\"Open In Colab\"/></a>"
      ]
    },
    {
      "cell_type": "code",
      "metadata": {
        "colab": {
          "base_uri": "https://localhost:8080/"
        },
        "id": "1srZuXmR6z8y",
        "outputId": "cfae5e6e-26a9-4bd8-8209-8373f1676899"
      },
      "source": [
        "len=int(input(\"How many numbers you want to enter: \"))\n",
        " \n",
        "total = 0\n",
        " \n",
        "for i in range(0,len):\n",
        "   elem=int(input(\"Enter element: \"))\n",
        "   total += elem\n",
        " \n",
        "avg = total/len\n",
        "print(\"Average of elements you entered\",round(avg,2))"
      ],
      "execution_count": 1,
      "outputs": [
        {
          "output_type": "stream",
          "text": [
            "How many numbers you want to enter: 10\n",
            "Enter element: 9\n",
            "Enter element: 18\n",
            "Enter element: 27\n",
            "Enter element: 36\n",
            "Enter element: 45\n",
            "Enter element: 54\n",
            "Enter element: 63\n",
            "Enter element: 72\n",
            "Enter element: 81\n",
            "Enter element: 90\n",
            "Average of elements you entered 49.5\n"
          ],
          "name": "stdout"
        }
      ]
    }
  ]
}