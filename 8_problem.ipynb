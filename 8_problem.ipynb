{
  "nbformat": 4,
  "nbformat_minor": 0,
  "metadata": {
    "colab": {
      "name": "8-problem.ipynb",
      "provenance": [],
      "authorship_tag": "ABX9TyMXUuykAE9OyedWYbKXcziK",
      "include_colab_link": true
    },
    "kernelspec": {
      "name": "python3",
      "display_name": "Python 3"
    }
  },
  "cells": [
    {
      "cell_type": "markdown",
      "metadata": {
        "id": "view-in-github",
        "colab_type": "text"
      },
      "source": [
        "<a href=\"https://colab.research.google.com/github/aditya270520/100Daysofpython/blob/main/8_problem.ipynb\" target=\"_parent\"><img src=\"https://colab.research.google.com/assets/colab-badge.svg\" alt=\"Open In Colab\"/></a>"
      ]
    },
    {
      "cell_type": "code",
      "metadata": {
        "colab": {
          "base_uri": "https://localhost:8080/"
        },
        "id": "yEUuFXjftCqc",
        "outputId": "7910b29e-cf6e-4a1d-8adb-aef722b1f935"
      },
      "source": [
        "BOARD_SIZE = 8\n",
        "\n",
        "class BailOut(Exception):\n",
        "    pass\n",
        "\n",
        "def validate(queens):\n",
        "    left = right = col = queens[-1]\n",
        "    for r in reversed(queens[:-1]):\n",
        "        left, right = left-1, right+1\n",
        "        if r in (left, col, right):\n",
        "            raise BailOut\n",
        "\n",
        "def add_queen(queens):\n",
        "    for i in range(BOARD_SIZE):\n",
        "        test_queens = queens + [i]\n",
        "        try:\n",
        "            validate(test_queens)\n",
        "            if len(test_queens) == BOARD_SIZE:\n",
        "                return test_queens\n",
        "            else:\n",
        "                return add_queen(test_queens)\n",
        "        except BailOut:\n",
        "            pass\n",
        "    raise BailOut\n",
        "\n",
        "queens = add_queen([])\n",
        "print (queens)\n",
        "print (\"\\n\".join(\". \"*q + \"Q \" + \". \"*(BOARD_SIZE-q-1) for q in queens))\n"
      ],
      "execution_count": 1,
      "outputs": [
        {
          "output_type": "stream",
          "text": [
            "[0, 4, 7, 5, 2, 6, 1, 3]\n",
            "Q . . . . . . . \n",
            ". . . . Q . . . \n",
            ". . . . . . . Q \n",
            ". . . . . Q . . \n",
            ". . Q . . . . . \n",
            ". . . . . . Q . \n",
            ". Q . . . . . . \n",
            ". . . Q . . . . \n"
          ],
          "name": "stdout"
        }
      ]
    }
  ]
}