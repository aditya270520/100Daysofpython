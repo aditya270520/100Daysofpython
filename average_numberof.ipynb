{
  "nbformat": 4,
  "nbformat_minor": 0,
  "metadata": {
    "colab": {
      "name": "average--numberof.ipynb",
      "provenance": [],
      "authorship_tag": "ABX9TyMlqrFsaGDmuaT3DoKFY4l5",
      "include_colab_link": true
    },
    "kernelspec": {
      "name": "python3",
      "display_name": "Python 3"
    }
  },
  "cells": [
    {
      "cell_type": "markdown",
      "metadata": {
        "id": "view-in-github",
        "colab_type": "text"
      },
      "source": [
        "<a href=\"https://colab.research.google.com/github/aditya270520/100Daysofpython/blob/main/average_numberof.ipynb\" target=\"_parent\"><img src=\"https://colab.research.google.com/assets/colab-badge.svg\" alt=\"Open In Colab\"/></a>"
      ]
    },
    {
      "cell_type": "code",
      "metadata": {
        "colab": {
          "base_uri": "https://localhost:8080/"
        },
        "id": "iOnymHLAHe3u",
        "outputId": "249c87af-6be5-427c-fda1-aa26273cc707"
      },
      "source": [
        "len=int(input(\"How many numbers you want to enter: \"))\n",
        " \n",
        "total = 0\n",
        " \n",
        "for i in range(0,len):\n",
        "   elem=int(input(\"Enter element: \"))\n",
        "   total += elem\n",
        " \n",
        "avg = total/len\n",
        "print(\"Average of elements you entered\",round(avg,2))\n"
      ],
      "execution_count": 1,
      "outputs": [
        {
          "output_type": "stream",
          "text": [
            "How many numbers you want to enter: 9\n",
            "Enter element: 9\n",
            "Enter element: 18\n",
            "Enter element: 27\n",
            "Enter element: 36\n",
            "Enter element: 45\n",
            "Enter element: 54\n",
            "Enter element: 63\n",
            "Enter element: 72\n",
            "Enter element: 81\n",
            "Average of elements you entered 45.0\n"
          ],
          "name": "stdout"
        }
      ]
    }
  ]
}