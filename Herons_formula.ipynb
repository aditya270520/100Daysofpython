{
  "nbformat": 4,
  "nbformat_minor": 0,
  "metadata": {
    "colab": {
      "name": "Herons_formula.ipynb",
      "provenance": [],
      "authorship_tag": "ABX9TyN3xil8Kfad25Ks1W7sob1D",
      "include_colab_link": true
    },
    "kernelspec": {
      "name": "python3",
      "display_name": "Python 3"
    }
  },
  "cells": [
    {
      "cell_type": "markdown",
      "metadata": {
        "id": "view-in-github",
        "colab_type": "text"
      },
      "source": [
        "<a href=\"https://colab.research.google.com/github/aditya270520/100Daysofpython/blob/main/Herons_formula.ipynb\" target=\"_parent\"><img src=\"https://colab.research.google.com/assets/colab-badge.svg\" alt=\"Open In Colab\"/></a>"
      ]
    },
    {
      "cell_type": "code",
      "metadata": {
        "colab": {
          "base_uri": "https://localhost:8080/"
        },
        "id": "PETnT5bUoMnQ",
        "outputId": "0be3d5d1-aaa8-4d57-952c-86c4760c0ecf"
      },
      "source": [
        "import math\n",
        "\n",
        "a = float(input('Enter first side: '))\n",
        "b = float(input('Enter second side: '))\n",
        "c = float(input('Enter third side: '))\n",
        "s = (a + b + c) / 2\n",
        "\n",
        "area = math.sqrt(s*(s-a)*(s-b)*(s-c))\n",
        "print('Area of your triangle is ', area)"
      ],
      "execution_count": 1,
      "outputs": [
        {
          "output_type": "stream",
          "text": [
            "Enter first side: 10\n",
            "Enter second side: 5\n",
            "Enter third side: 8\n",
            "Area of your triangle is  19.81003533565753\n"
          ],
          "name": "stdout"
        }
      ]
    }
  ]
}