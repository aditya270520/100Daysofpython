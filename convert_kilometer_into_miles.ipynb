{
  "nbformat": 4,
  "nbformat_minor": 0,
  "metadata": {
    "colab": {
      "name": "convert_kilometer_into_miles.ipynb",
      "provenance": [],
      "authorship_tag": "ABX9TyPY8qn0ioO4gObBMYaUU6iD",
      "include_colab_link": true
    },
    "kernelspec": {
      "name": "python3",
      "display_name": "Python 3"
    }
  },
  "cells": [
    {
      "cell_type": "markdown",
      "metadata": {
        "id": "view-in-github",
        "colab_type": "text"
      },
      "source": [
        "<a href=\"https://colab.research.google.com/github/aditya270520/100Daysofpython/blob/main/convert_kilometer_into_miles.ipynb\" target=\"_parent\"><img src=\"https://colab.research.google.com/assets/colab-badge.svg\" alt=\"Open In Colab\"/></a>"
      ]
    },
    {
      "cell_type": "code",
      "metadata": {
        "colab": {
          "base_uri": "https://localhost:8080/"
        },
        "id": "nc1ovQ83QoMO",
        "outputId": "4aee42e9-e3a7-4bf7-9d92-1f3ef2d727ca"
      },
      "source": [
        "kilometers = float(input(\"Enter value in kilometers: \"))\n",
        "\n",
        "conv_fac = 0.621371\n",
        "\n",
        "miles = kilometers * conv_fac\n",
        "print('%0.2f kilometers is equal to %0.2f miles' %(kilometers,miles))"
      ],
      "execution_count": 1,
      "outputs": [
        {
          "output_type": "stream",
          "text": [
            "Enter value in kilometers: 1\n",
            "1.00 kilometers is equal to 0.62 miles\n"
          ],
          "name": "stdout"
        }
      ]
    }
  ]
}