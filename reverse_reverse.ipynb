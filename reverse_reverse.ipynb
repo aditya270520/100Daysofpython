{
  "nbformat": 4,
  "nbformat_minor": 0,
  "metadata": {
    "colab": {
      "name": "reverse-reverse.ipynb",
      "provenance": [],
      "authorship_tag": "ABX9TyMzaingA5y+PJAyEuoZ/5G2",
      "include_colab_link": true
    },
    "kernelspec": {
      "name": "python3",
      "display_name": "Python 3"
    }
  },
  "cells": [
    {
      "cell_type": "markdown",
      "metadata": {
        "id": "view-in-github",
        "colab_type": "text"
      },
      "source": [
        "<a href=\"https://colab.research.google.com/github/aditya270520/100Daysofpython/blob/main/reverse_reverse.ipynb\" target=\"_parent\"><img src=\"https://colab.research.google.com/assets/colab-badge.svg\" alt=\"Open In Colab\"/></a>"
      ]
    },
    {
      "cell_type": "code",
      "metadata": {
        "colab": {
          "base_uri": "https://localhost:8080/"
        },
        "id": "lU2R2N4JphuJ",
        "outputId": "ec5c3dff-41b5-4953-e73d-49f54208d320"
      },
      "source": [
        "def reverse_num(num):\n",
        "   reverse = 0\n",
        "   while(num>0):\n",
        "       last_digit = num%10\n",
        "       reverse = reverse*10 + last_digit\n",
        "       num = num//10\n",
        "   return reverse\n",
        " \n",
        "n=int(input(\"Enter number: \"))\n",
        "reverse = reverse_num(n)\n",
        "print(\"Reverse of the number:\",reverse)"
      ],
      "execution_count": 2,
      "outputs": [
        {
          "output_type": "stream",
          "text": [
            "Enter number: 9279\n",
            "Reverse of the number: 9729\n"
          ],
          "name": "stdout"
        }
      ]
    }
  ]
}