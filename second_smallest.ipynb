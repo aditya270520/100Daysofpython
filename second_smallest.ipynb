{
  "nbformat": 4,
  "nbformat_minor": 0,
  "metadata": {
    "colab": {
      "name": "second-smallest.ipynb",
      "provenance": [],
      "authorship_tag": "ABX9TyPC5FXfCGDtIptOYWuAocCm",
      "include_colab_link": true
    },
    "kernelspec": {
      "name": "python3",
      "display_name": "Python 3"
    }
  },
  "cells": [
    {
      "cell_type": "markdown",
      "metadata": {
        "id": "view-in-github",
        "colab_type": "text"
      },
      "source": [
        "<a href=\"https://colab.research.google.com/github/aditya270520/100Daysofpython/blob/main/second_smallest.ipynb\" target=\"_parent\"><img src=\"https://colab.research.google.com/assets/colab-badge.svg\" alt=\"Open In Colab\"/></a>"
      ]
    },
    {
      "cell_type": "code",
      "metadata": {
        "colab": {
          "base_uri": "https://localhost:8080/"
        },
        "id": "aHMDgwsTXOji",
        "outputId": "39586965-f0bd-4214-9027-53a9fccb6819"
      },
      "source": [
        "nums = [2, 15, 14, 71, 52, 209, 551]\n",
        "nums.remove(min(nums))\n",
        "second_smallest = min(nums)\n",
        "print(second_smallest)"
      ],
      "execution_count": 1,
      "outputs": [
        {
          "output_type": "stream",
          "text": [
            "14\n"
          ],
          "name": "stdout"
        }
      ]
    }
  ]
}