{
  "nbformat": 4,
  "nbformat_minor": 0,
  "metadata": {
    "colab": {
      "name": "compound-interest.ipynb",
      "provenance": [],
      "authorship_tag": "ABX9TyObqWio37abv13P6Gemmsz4",
      "include_colab_link": true
    },
    "kernelspec": {
      "name": "python3",
      "display_name": "Python 3"
    }
  },
  "cells": [
    {
      "cell_type": "markdown",
      "metadata": {
        "id": "view-in-github",
        "colab_type": "text"
      },
      "source": [
        "<a href=\"https://colab.research.google.com/github/aditya270520/100Daysofpython/blob/main/compound_interest.ipynb\" target=\"_parent\"><img src=\"https://colab.research.google.com/assets/colab-badge.svg\" alt=\"Open In Colab\"/></a>"
      ]
    },
    {
      "cell_type": "code",
      "metadata": {
        "colab": {
          "base_uri": "https://localhost:8080/"
        },
        "id": "e4jaOm37ATW0",
        "outputId": "fb14fc3e-6ecc-4c68-db14-4f32a469fb4c"
      },
      "source": [
        "def compound_interest(principle, rate, time):\n",
        "\tinterest = principle * ((1 + rate / 100) ** time)\n",
        "\treturn interest\n",
        "\n",
        "principle = int(input(\"Money you borrowed: \"))\n",
        "interest_rate = float(input(\"Interest Rate: \"))\n",
        "time = float(input(\"Overall Duration: \"))\n",
        "\n",
        "total_due = compound_interest(principle, interest_rate, time)\n",
        "\n",
        "print(\"Interest Amount is:\", total_due)"
      ],
      "execution_count": 1,
      "outputs": [
        {
          "output_type": "stream",
          "text": [
            "Money you borrowed: 10000\n",
            "Interest Rate: 2\n",
            "Overall Duration: 12\n",
            "Interest Amount is: 12682.417945625455\n"
          ],
          "name": "stdout"
        }
      ]
    }
  ]
}