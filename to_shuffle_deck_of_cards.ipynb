{
  "nbformat": 4,
  "nbformat_minor": 0,
  "metadata": {
    "colab": {
      "name": "to_shuffle_deck_of_cards.ipynb",
      "provenance": [],
      "authorship_tag": "ABX9TyOGAZaQhRcivvholreOddEC",
      "include_colab_link": true
    },
    "kernelspec": {
      "name": "python3",
      "display_name": "Python 3"
    }
  },
  "cells": [
    {
      "cell_type": "markdown",
      "metadata": {
        "id": "view-in-github",
        "colab_type": "text"
      },
      "source": [
        "<a href=\"https://colab.research.google.com/github/aditya270520/100Daysofpython/blob/main/to_shuffle_deck_of_cards.ipynb\" target=\"_parent\"><img src=\"https://colab.research.google.com/assets/colab-badge.svg\" alt=\"Open In Colab\"/></a>"
      ]
    },
    {
      "cell_type": "code",
      "metadata": {
        "colab": {
          "base_uri": "https://localhost:8080/"
        },
        "id": "vYAXyWc7vnqg",
        "outputId": "7c312923-8ebf-4c61-c02f-3819d054a293"
      },
      "source": [
        "import itertools, random\n",
        "\n",
        "deck = list(itertools.product(range(1,14),['Spade','Heart','Diamond','Club']))\n",
        "\n",
        "random.shuffle(deck)\n",
        "\n",
        "print(\"You got:\")\n",
        "for i in range(5):\n",
        "   print(deck[i][0], \"of\", deck[i][1])"
      ],
      "execution_count": 2,
      "outputs": [
        {
          "output_type": "stream",
          "text": [
            "You got:\n",
            "1 of Club\n",
            "9 of Diamond\n",
            "6 of Club\n",
            "8 of Diamond\n",
            "7 of Heart\n"
          ],
          "name": "stdout"
        }
      ]
    }
  ]
}