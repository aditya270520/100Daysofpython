{
  "nbformat": 4,
  "nbformat_minor": 0,
  "metadata": {
    "colab": {
      "name": "sum-of-numbers.ipynb",
      "provenance": [],
      "authorship_tag": "ABX9TyO4pNQycC5soESy06Jnw4Cq",
      "include_colab_link": true
    },
    "kernelspec": {
      "name": "python3",
      "display_name": "Python 3"
    }
  },
  "cells": [
    {
      "cell_type": "markdown",
      "metadata": {
        "id": "view-in-github",
        "colab_type": "text"
      },
      "source": [
        "<a href=\"https://colab.research.google.com/github/aditya270520/100Daysofpython/blob/main/sum_of_numbers.ipynb\" target=\"_parent\"><img src=\"https://colab.research.google.com/assets/colab-badge.svg\" alt=\"Open In Colab\"/></a>"
      ]
    },
    {
      "cell_type": "code",
      "metadata": {
        "colab": {
          "base_uri": "https://localhost:8080/"
        },
        "id": "Afjep8IDdgfy",
        "outputId": "f2e7cbdc-5b1a-481f-a698-5b9b644f5607"
      },
      "source": [
        "nums = [13, 11, 16, 78, 31, 128]\n",
        "\n",
        "total = sum(nums)\n",
        "print(total)\n"
      ],
      "execution_count": 1,
      "outputs": [
        {
          "output_type": "stream",
          "text": [
            "277\n"
          ],
          "name": "stdout"
        }
      ]
    }
  ]
}