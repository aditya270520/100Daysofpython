{
  "nbformat": 4,
  "nbformat_minor": 0,
  "metadata": {
    "colab": {
      "name": "import_regular_impression.ipynb",
      "provenance": [],
      "authorship_tag": "ABX9TyMX1CRRRNHfvWbaCd14dm0L",
      "include_colab_link": true
    },
    "kernelspec": {
      "name": "python3",
      "display_name": "Python 3"
    }
  },
  "cells": [
    {
      "cell_type": "markdown",
      "metadata": {
        "id": "view-in-github",
        "colab_type": "text"
      },
      "source": [
        "<a href=\"https://colab.research.google.com/github/aditya270520/100Daysofpython/blob/main/import_regular_impression.ipynb\" target=\"_parent\"><img src=\"https://colab.research.google.com/assets/colab-badge.svg\" alt=\"Open In Colab\"/></a>"
      ]
    },
    {
      "cell_type": "code",
      "metadata": {
        "colab": {
          "base_uri": "https://localhost:8080/"
        },
        "id": "eQLrhGWCN9i-",
        "outputId": "c765c348-337d-48ef-ce23-06eaa5ac9fcf"
      },
      "source": [
        "import re\n",
        "for test_string in ['555-1212', 'ILL-EGAL']:\n",
        "    if re.match(r'^\\d{3}-\\d{4}$', test_string):\n",
        "        print (test_string, 'is a valid US local phone number')\n",
        "    else:\n",
        "        print (test_string, 'rejected')"
      ],
      "execution_count": 1,
      "outputs": [
        {
          "output_type": "stream",
          "text": [
            "555-1212 is a valid US local phone number\n",
            "ILL-EGAL rejected\n"
          ],
          "name": "stdout"
        }
      ]
    }
  ]
}