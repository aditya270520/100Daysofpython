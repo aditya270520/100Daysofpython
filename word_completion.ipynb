{
  "nbformat": 4,
  "nbformat_minor": 0,
  "metadata": {
    "colab": {
      "name": "word-completion.ipynb",
      "provenance": [],
      "authorship_tag": "ABX9TyNxPCBXDEpMfFCe/dhqi1/A",
      "include_colab_link": true
    },
    "kernelspec": {
      "name": "python3",
      "display_name": "Python 3"
    }
  },
  "cells": [
    {
      "cell_type": "markdown",
      "metadata": {
        "id": "view-in-github",
        "colab_type": "text"
      },
      "source": [
        "<a href=\"https://colab.research.google.com/github/aditya270520/100Daysofpython/blob/main/word_completion.ipynb\" target=\"_parent\"><img src=\"https://colab.research.google.com/assets/colab-badge.svg\" alt=\"Open In Colab\"/></a>"
      ]
    },
    {
      "cell_type": "code",
      "metadata": {
        "colab": {
          "base_uri": "https://localhost:8080/"
        },
        "id": "BEXnFCpWK7nJ",
        "outputId": "715a85f5-6b5f-4a41-b6b2-e02a44e40bcc"
      },
      "source": [
        "import random\n",
        " \n",
        "def get_a_clue():\n",
        "   clues = ['-a-e', 'y-ll-w', 's-mm-r', 'wi-t-r','s-n-y', 'l-v-','-i-e']\n",
        "   position = random.randint(0, len(clues)-1)\n",
        "   clue = clues[position]\n",
        "   return clue\n",
        " \n",
        "def check_word_match(clue, guess):\n",
        "   if len(clue) != len(guess):\n",
        "            return False\n",
        "   for i in range (len(clue)):\n",
        "       if clue[i] != '-' and clue[i ]!= guess[i]:\n",
        "           return False\n",
        "   return True\n",
        " \n",
        "# start the game\n",
        "word_clue = get_a_clue()\n",
        "print('Your word clue:', word_clue)\n",
        "answer = input('What would be the word: ')\n",
        " \n",
        "is_matched = check_word_match(word_clue, answer)\n",
        " \n",
        "if is_matched is True:\n",
        "    print('WOW!!! You win')\n",
        "else:\n",
        "    print('Opps! you missed it.')"
      ],
      "execution_count": 1,
      "outputs": [
        {
          "output_type": "stream",
          "text": [
            "Your word clue: wi-t-r\n",
            "What would be the word: witr\n",
            "Opps! you missed it.\n"
          ],
          "name": "stdout"
        }
      ]
    }
  ]
}