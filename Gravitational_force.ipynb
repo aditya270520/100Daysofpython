{
  "nbformat": 4,
  "nbformat_minor": 0,
  "metadata": {
    "colab": {
      "name": "Gravitational-force.ipynb",
      "provenance": [],
      "authorship_tag": "ABX9TyMuXj125yptEKPt0VHKdh02",
      "include_colab_link": true
    },
    "kernelspec": {
      "name": "python3",
      "display_name": "Python 3"
    }
  },
  "cells": [
    {
      "cell_type": "markdown",
      "metadata": {
        "id": "view-in-github",
        "colab_type": "text"
      },
      "source": [
        "<a href=\"https://colab.research.google.com/github/aditya270520/100Daysofpython/blob/main/Gravitational_force.ipynb\" target=\"_parent\"><img src=\"https://colab.research.google.com/assets/colab-badge.svg\" alt=\"Open In Colab\"/></a>"
      ]
    },
    {
      "cell_type": "code",
      "metadata": {
        "colab": {
          "base_uri": "https://localhost:8080/"
        },
        "id": "nauk9YumBOLk",
        "outputId": "0ce8fc3d-dccf-409a-d0fc-cfd48d40718a"
      },
      "source": [
        "mass1 = float(input(\"First mass: \"))\n",
        "mass2 = float(input(\"Second mass: \"))\n",
        " \n",
        "r = float(input(\"Distance between the objects: \"))\n",
        " \n",
        "G = 6.673*(10**-11)\n",
        "force =(G*mass1*mass2)/(r**2)\n",
        " \n",
        "print(\"The gravitational force is:\", round(force, 5),\"N\")"
      ],
      "execution_count": 3,
      "outputs": [
        {
          "output_type": "stream",
          "text": [
            "First mass: 27\n",
            "Second mass: 72\n",
            "Distance between the objects: 99\n",
            "The gravitational force is: 0.0 N\n"
          ],
          "name": "stdout"
        }
      ]
    }
  ]
}