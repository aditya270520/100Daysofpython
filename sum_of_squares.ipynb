{
  "nbformat": 4,
  "nbformat_minor": 0,
  "metadata": {
    "colab": {
      "name": "sum-of-squares.ipynb",
      "provenance": [],
      "authorship_tag": "ABX9TyP510yokle2D+dHHsHQJkm4",
      "include_colab_link": true
    },
    "kernelspec": {
      "name": "python3",
      "display_name": "Python 3"
    }
  },
  "cells": [
    {
      "cell_type": "markdown",
      "metadata": {
        "id": "view-in-github",
        "colab_type": "text"
      },
      "source": [
        "<a href=\"https://colab.research.google.com/github/aditya270520/100Daysofpython/blob/main/sum_of_squares.ipynb\" target=\"_parent\"><img src=\"https://colab.research.google.com/assets/colab-badge.svg\" alt=\"Open In Colab\"/></a>"
      ]
    },
    {
      "cell_type": "code",
      "metadata": {
        "colab": {
          "base_uri": "https://localhost:8080/"
        },
        "id": "Z6kIvVwSWokl",
        "outputId": "9ea26468-b2a2-483b-c157-9eadd1801187"
      },
      "source": [
        "def sum_of_square2(n):\n",
        "    sum = n*(n+1)*(2*n+1)/6\n",
        "    return sum\n",
        "\n",
        "num = int(input('Enter a number: '))\n",
        "sum = sum_of_square2(num)\n",
        "print('Your sum of Square is: ', sum)\n"
      ],
      "execution_count": 1,
      "outputs": [
        {
          "output_type": "stream",
          "text": [
            "Enter a number: 9\n",
            "Your sum of Square is:  285.0\n"
          ],
          "name": "stdout"
        }
      ]
    }
  ]
}