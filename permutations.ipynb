{
  "nbformat": 4,
  "nbformat_minor": 0,
  "metadata": {
    "colab": {
      "name": "permutations.ipynb",
      "provenance": [],
      "authorship_tag": "ABX9TyOSsB1w3hqs2jg6SP8cilCl",
      "include_colab_link": true
    },
    "kernelspec": {
      "name": "python3",
      "display_name": "Python 3"
    }
  },
  "cells": [
    {
      "cell_type": "markdown",
      "metadata": {
        "id": "view-in-github",
        "colab_type": "text"
      },
      "source": [
        "<a href=\"https://colab.research.google.com/github/aditya270520/100Daysofpython/blob/main/permutations.ipynb\" target=\"_parent\"><img src=\"https://colab.research.google.com/assets/colab-badge.svg\" alt=\"Open In Colab\"/></a>"
      ]
    },
    {
      "cell_type": "code",
      "metadata": {
        "colab": {
          "base_uri": "https://localhost:8080/"
        },
        "id": "a3B3WfjAnRJd",
        "outputId": "b2c9b7a3-88c9-491f-d924-c08557147970"
      },
      "source": [
        "def get_permutation(lst):\n",
        "   if len(lst) == 0:\n",
        "       return []\n",
        "   if len(lst) == 1:\n",
        "       return [lst]\n",
        "   perms = []\n",
        "   for i in range(len(lst)):\n",
        "       current = lst[i]\n",
        "       rem_list = lst[:i] + lst[i+1:]\n",
        "       rem_perm = get_permutation(rem_list)\n",
        "       for p in rem_perm:\n",
        "           perms.append([current] + p)\n",
        "   return perms\n",
        "data = [1,2,3]\n",
        "for perm in get_permutation(data):\n",
        "   print (perm)"
      ],
      "execution_count": 2,
      "outputs": [
        {
          "output_type": "stream",
          "text": [
            "[1, 2, 3]\n",
            "[1, 3, 2]\n",
            "[2, 1, 3]\n",
            "[2, 3, 1]\n",
            "[3, 1, 2]\n",
            "[3, 2, 1]\n"
          ],
          "name": "stdout"
        }
      ]
    }
  ]
}