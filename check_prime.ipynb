{
  "nbformat": 4,
  "nbformat_minor": 0,
  "metadata": {
    "colab": {
      "name": "check-prime.ipynb",
      "provenance": [],
      "authorship_tag": "ABX9TyPubGhrNm/9Nn6EWc9Taucl",
      "include_colab_link": true
    },
    "kernelspec": {
      "name": "python3",
      "display_name": "Python 3"
    }
  },
  "cells": [
    {
      "cell_type": "markdown",
      "metadata": {
        "id": "view-in-github",
        "colab_type": "text"
      },
      "source": [
        "<a href=\"https://colab.research.google.com/github/aditya270520/100Daysofpython/blob/main/check_prime.ipynb\" target=\"_parent\"><img src=\"https://colab.research.google.com/assets/colab-badge.svg\" alt=\"Open In Colab\"/></a>"
      ]
    },
    {
      "cell_type": "code",
      "metadata": {
        "colab": {
          "base_uri": "https://localhost:8080/"
        },
        "id": "4EBzvcmrK3oa",
        "outputId": "1a82508f-b19f-4ed3-a91f-12c36792876c"
      },
      "source": [
        "def is_prime(num):\n",
        "   for i in range(2,num):\n",
        "       if (num % i) == 0:\n",
        "           return False\n",
        "   return True\n",
        "\n",
        "\n",
        "num = int(input(\"Enter a number: \"))\n",
        "\n",
        "check_prime = is_prime(num)\n",
        "\n",
        "if check_prime:\n",
        "   print('Your number is a Prime')\n",
        "else:\n",
        "   print('Your number is not a Prime')\n"
      ],
      "execution_count": 1,
      "outputs": [
        {
          "output_type": "stream",
          "text": [
            "Enter a number: 99999\n",
            "Your number is not a Prime\n"
          ],
          "name": "stdout"
        }
      ]
    }
  ]
}