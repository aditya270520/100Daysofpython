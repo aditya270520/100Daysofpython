{
  "nbformat": 4,
  "nbformat_minor": 0,
  "metadata": {
    "colab": {
      "name": "calculate-grades.ipynb",
      "provenance": [],
      "authorship_tag": "ABX9TyOuQhMNmVMmkwZmfmS4qczk",
      "include_colab_link": true
    },
    "kernelspec": {
      "name": "python3",
      "display_name": "Python 3"
    }
  },
  "cells": [
    {
      "cell_type": "markdown",
      "metadata": {
        "id": "view-in-github",
        "colab_type": "text"
      },
      "source": [
        "<a href=\"https://colab.research.google.com/github/aditya270520/100Daysofpython/blob/main/calculate_grades.ipynb\" target=\"_parent\"><img src=\"https://colab.research.google.com/assets/colab-badge.svg\" alt=\"Open In Colab\"/></a>"
      ]
    },
    {
      "cell_type": "code",
      "metadata": {
        "colab": {
          "base_uri": "https://localhost:8080/"
        },
        "id": "O0kHovlFS7ZF",
        "outputId": "4eff2a51-2397-48a3-e86a-c19f4a104573"
      },
      "source": [
        "print('Enter your marks:')\n",
        "sub1=int(input(\"Physics: \"))\n",
        "sub2=int(input(\"Chemistry: \"))\n",
        "sub3=int(input(\"Mathematics: \"))\n",
        "sub4=int(input(\"English: \"))\n",
        "sub5=int(input(\"Drawing: \"))\n",
        " \n",
        "avg=(sub1+sub2+sub3+sub4+sub5)/5\n",
        " \n",
        "if avg >= 90:\n",
        "   print(\"Grade: A\")\n",
        "elif avg >= 80:\n",
        "   print(\"Grade: B\")\n",
        "elif avg >= 70:\n",
        "   print(\"Grade: C\")\n",
        "elif avg >=60:\n",
        "   print(\"Grade: D\")\n",
        "else:\n",
        "   print(\"Grade: F\")"
      ],
      "execution_count": 2,
      "outputs": [
        {
          "output_type": "stream",
          "text": [
            "Enter your marks:\n",
            "Physics: 99\n",
            "Chemistry: 90\n",
            "Mathematics: 81\n",
            "English: 72\n",
            "Drawing: 27\n",
            "Grade: C\n"
          ],
          "name": "stdout"
        }
      ]
    }
  ]
}