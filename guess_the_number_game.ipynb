{
  "nbformat": 4,
  "nbformat_minor": 0,
  "metadata": {
    "colab": {
      "name": "guess_the_number_game.ipynb",
      "provenance": [],
      "authorship_tag": "ABX9TyPkplQvxDqKdN+mblX4CYkw",
      "include_colab_link": true
    },
    "kernelspec": {
      "name": "python3",
      "display_name": "Python 3"
    }
  },
  "cells": [
    {
      "cell_type": "markdown",
      "metadata": {
        "id": "view-in-github",
        "colab_type": "text"
      },
      "source": [
        "<a href=\"https://colab.research.google.com/github/aditya270520/100Daysofpython/blob/main/guess_the_number_game.ipynb\" target=\"_parent\"><img src=\"https://colab.research.google.com/assets/colab-badge.svg\" alt=\"Open In Colab\"/></a>"
      ]
    },
    {
      "cell_type": "code",
      "metadata": {
        "colab": {
          "base_uri": "https://localhost:8080/"
        },
        "id": "wD9nLDyX3s_Z",
        "outputId": "4c948563-63ca-4b5e-8a6c-b1f0e6d89307"
      },
      "source": [
        "import random\n",
        "\n",
        "guesses_made = 0\n",
        "\n",
        "name = input('Hello! What is your name?\\n')\n",
        "\n",
        "number = random.randint(1, 20)\n",
        "print ('Well, {0}, I am thinking of a number between 1 and 20.'.format(name))\n",
        "\n",
        "while guesses_made < 6:\n",
        "\n",
        "    guess = int(input('Take a guess: '))\n",
        "\n",
        "    guesses_made += 1\n",
        "\n",
        "    if guess < number:\n",
        "        print ('Your guess is too low.')\n",
        "\n",
        "    if guess > number:\n",
        "        print ('Your guess is too high.')\n",
        "\n",
        "    if guess == number:\n",
        "        break\n",
        "\n",
        "if guess == number:\n",
        "    print ('Good job, {0}! You guessed my number in {1} guesses!'.format(name, guesses_made))\n",
        "else:\n",
        "    print ('Nope. The number I was thinking of was {0}'.format(number))"
      ],
      "execution_count": 3,
      "outputs": [
        {
          "output_type": "stream",
          "text": [
            "Hello! What is your name?\n",
            "ADITYA BHUSHAN SHARMA\n",
            "Well, ADITYA BHUSHAN SHARMA, I am thinking of a number between 1 and 20.\n",
            "Take a guess: 18\n",
            "Your guess is too high.\n",
            "Take a guess: 9\n",
            "Good job, ADITYA BHUSHAN SHARMA! You guessed my number in 2 guesses!\n"
          ],
          "name": "stdout"
        }
      ]
    }
  ]
}