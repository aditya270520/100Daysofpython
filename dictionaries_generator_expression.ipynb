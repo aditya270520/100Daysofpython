{
  "nbformat": 4,
  "nbformat_minor": 0,
  "metadata": {
    "colab": {
      "name": "dictionaries_generator_expression.ipynb",
      "provenance": [],
      "authorship_tag": "ABX9TyNaNwErmUANgomnC2AZ49pW",
      "include_colab_link": true
    },
    "kernelspec": {
      "name": "python3",
      "display_name": "Python 3"
    }
  },
  "cells": [
    {
      "cell_type": "markdown",
      "metadata": {
        "id": "view-in-github",
        "colab_type": "text"
      },
      "source": [
        "<a href=\"https://colab.research.google.com/github/aditya270520/100Daysofpython/blob/main/dictionaries_generator_expression.ipynb\" target=\"_parent\"><img src=\"https://colab.research.google.com/assets/colab-badge.svg\" alt=\"Open In Colab\"/></a>"
      ]
    },
    {
      "cell_type": "code",
      "metadata": {
        "colab": {
          "base_uri": "https://localhost:8080/"
        },
        "id": "BBA0ZxEMVOAE",
        "outputId": "03ed7833-4be8-439d-a57e-5bb671a1bf8d"
      },
      "source": [
        "prices = {'apple': 0.40, 'banana': 0.50}\n",
        "my_purchase = {\n",
        "    'apple': 1,\n",
        "    'banana': 6}\n",
        "grocery_bill = sum(prices[fruit] * my_purchase[fruit]\n",
        "                   for fruit in my_purchase)\n",
        "print ('I owe the grocer $%.2f' % grocery_bill)"
      ],
      "execution_count": 1,
      "outputs": [
        {
          "output_type": "stream",
          "text": [
            "I owe the grocer $3.40\n"
          ],
          "name": "stdout"
        }
      ]
    }
  ]
}