{
  "nbformat": 4,
  "nbformat_minor": 0,
  "metadata": {
    "colab": {
      "name": "loops_build_in_emurant_function.ipynb",
      "provenance": [],
      "authorship_tag": "ABX9TyMYid75MJ5rCf+dIaYeeYFL",
      "include_colab_link": true
    },
    "kernelspec": {
      "name": "python3",
      "display_name": "Python 3"
    }
  },
  "cells": [
    {
      "cell_type": "markdown",
      "metadata": {
        "id": "view-in-github",
        "colab_type": "text"
      },
      "source": [
        "<a href=\"https://colab.research.google.com/github/aditya270520/100Daysofpython/blob/main/loops_build_in_emurant_function.ipynb\" target=\"_parent\"><img src=\"https://colab.research.google.com/assets/colab-badge.svg\" alt=\"Open In Colab\"/></a>"
      ]
    },
    {
      "cell_type": "code",
      "metadata": {
        "colab": {
          "base_uri": "https://localhost:8080/"
        },
        "id": "xOlAMA9F5swU",
        "outputId": "f4b0f869-cc4e-4b92-9d5c-aed9eba0f97a"
      },
      "source": [
        "friends = ['john', 'pat', 'gary', 'michael']\n",
        "for i, name in enumerate(friends):\n",
        "    print (\"iteration {iteration} is {name}\".format(iteration=i, name=name))"
      ],
      "execution_count": 1,
      "outputs": [
        {
          "output_type": "stream",
          "text": [
            "iteration 0 is john\n",
            "iteration 1 is pat\n",
            "iteration 2 is gary\n",
            "iteration 3 is michael\n"
          ],
          "name": "stdout"
        }
      ]
    }
  ]
}