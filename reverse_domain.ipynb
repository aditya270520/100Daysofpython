{
  "nbformat": 4,
  "nbformat_minor": 0,
  "metadata": {
    "colab": {
      "name": "reverse-domain.ipynb",
      "provenance": [],
      "authorship_tag": "ABX9TyN4u+8VilHEofIeCudLAXsw",
      "include_colab_link": true
    },
    "kernelspec": {
      "name": "python3",
      "display_name": "Python 3"
    }
  },
  "cells": [
    {
      "cell_type": "markdown",
      "metadata": {
        "id": "view-in-github",
        "colab_type": "text"
      },
      "source": [
        "<a href=\"https://colab.research.google.com/github/aditya270520/100Daysofpython/blob/main/reverse_domain.ipynb\" target=\"_parent\"><img src=\"https://colab.research.google.com/assets/colab-badge.svg\" alt=\"Open In Colab\"/></a>"
      ]
    },
    {
      "cell_type": "code",
      "metadata": {
        "colab": {
          "base_uri": "https://localhost:8080/"
        },
        "id": "8QOCAM2Bazyv",
        "outputId": "c33c213e-9bf4-4a22-efbc-a0615445d36e"
      },
      "source": [
        "site='www.programming-hero.com'\n",
        "rev = '.'.join(reversed(site.split('.')))\n",
        "print(rev)"
      ],
      "execution_count": 1,
      "outputs": [
        {
          "output_type": "stream",
          "text": [
            "com.programming-hero.www\n"
          ],
          "name": "stdout"
        }
      ]
    }
  ]
}