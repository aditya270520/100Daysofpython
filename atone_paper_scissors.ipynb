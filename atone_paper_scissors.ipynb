{
  "nbformat": 4,
  "nbformat_minor": 0,
  "metadata": {
    "colab": {
      "name": "atone-paper-scissors.ipynb",
      "provenance": [],
      "authorship_tag": "ABX9TyPHRDIZJskQ/fIMsekMatP9",
      "include_colab_link": true
    },
    "kernelspec": {
      "name": "python3",
      "display_name": "Python 3"
    }
  },
  "cells": [
    {
      "cell_type": "markdown",
      "metadata": {
        "id": "view-in-github",
        "colab_type": "text"
      },
      "source": [
        "<a href=\"https://colab.research.google.com/github/aditya270520/100Daysofpython/blob/main/atone_paper_scissors.ipynb\" target=\"_parent\"><img src=\"https://colab.research.google.com/assets/colab-badge.svg\" alt=\"Open In Colab\"/></a>"
      ]
    },
    {
      "cell_type": "code",
      "metadata": {
        "colab": {
          "base_uri": "https://localhost:8080/"
        },
        "id": "Ar3davlEnj-W",
        "outputId": "0defa6c0-c6fb-449d-9987-c6c369379197"
      },
      "source": [
        "def get_winner(p1, p2):\n",
        "   if p1 == p2:\n",
        "       return \"It's a tie!\"\n",
        "   elif p1 == 'rock':\n",
        "       if p2 == 'scissors':\n",
        "           return \"First player wins!\"\n",
        "       else:\n",
        "           return \"Second Player wins!\"\n",
        "   elif p1 == 'scissors':\n",
        "       if p2 == 'paper':\n",
        "           return \"First player win!\"\n",
        "       else:\n",
        "           return\"Second player wins!\"\n",
        "   elif p1 == 'paper':\n",
        "       if p2 == 'rock':\n",
        "           return \"First player wins!\"\n",
        "       else:\n",
        "           return \"Second player win!\"\n",
        "   else:\n",
        "       return \"Invalid input!\"\n",
        "      \n",
        "player1 = input(\"First player: rock, paper or scissors: \")\n",
        "player2 = input(\"Second Player: rock, paper or scissors: \")\n",
        " \n",
        "print(get_winner(player1, player2))"
      ],
      "execution_count": 3,
      "outputs": [
        {
          "output_type": "stream",
          "text": [
            "First player: rock, paper or scissors: rock\n",
            "Second Player: rock, paper or scissors: paper\n",
            "Second Player wins!\n"
          ],
          "name": "stdout"
        }
      ]
    }
  ]
}