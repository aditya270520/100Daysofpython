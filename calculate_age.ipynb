{
  "nbformat": 4,
  "nbformat_minor": 0,
  "metadata": {
    "colab": {
      "name": "calculate-age.ipynb",
      "provenance": [],
      "authorship_tag": "ABX9TyNxZi6rkOn/1hHJc31CJN8f",
      "include_colab_link": true
    },
    "kernelspec": {
      "name": "python3",
      "display_name": "Python 3"
    }
  },
  "cells": [
    {
      "cell_type": "markdown",
      "metadata": {
        "id": "view-in-github",
        "colab_type": "text"
      },
      "source": [
        "<a href=\"https://colab.research.google.com/github/aditya270520/100Daysofpython/blob/main/calculate_age.ipynb\" target=\"_parent\"><img src=\"https://colab.research.google.com/assets/colab-badge.svg\" alt=\"Open In Colab\"/></a>"
      ]
    },
    {
      "cell_type": "code",
      "metadata": {
        "colab": {
          "base_uri": "https://localhost:8080/"
        },
        "id": "rGZAMdh6NMD5",
        "outputId": "8f34a27f-a21a-4184-eea7-3f70792bb081"
      },
      "source": [
        "from datetime import datetime\n",
        "import time\n",
        " \n",
        " \n",
        "def calculate_age(born):\n",
        "\ttoday = datetime.today()\n",
        "\tdays = (today-born).days\n",
        "\tage = days // 365\n",
        "\treturn age\n",
        " \n",
        "def get_user_birthday():\n",
        " date_str = input(\"Enter your birth date in DD/MM/YYYY: \")\n",
        " try:\n",
        "   birthday = datetime.strptime(date_str, \"%d/%m/%Y\")\n",
        " except TypeError:\n",
        "   birthday = datetime.datetime(*(time.strptime(date_str, \"%d/%m/%Y\")[0:6]))\n",
        " return birthday\n",
        " \n",
        "birthday = get_user_birthday()\n",
        "age = calculate_age(birthday)\n",
        "print(\"Your age: \", age)\n"
      ],
      "execution_count": 2,
      "outputs": [
        {
          "output_type": "stream",
          "text": [
            "Enter your birth date in DD/MM/YYYY: 27/05/2000\n",
            "Your age:  20\n"
          ],
          "name": "stdout"
        }
      ]
    }
  ]
}