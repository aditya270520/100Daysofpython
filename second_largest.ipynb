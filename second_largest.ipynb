{
  "nbformat": 4,
  "nbformat_minor": 0,
  "metadata": {
    "colab": {
      "name": "second-largest.ipynb",
      "provenance": [],
      "authorship_tag": "ABX9TyP4XAyF15RCnFvvNPzhVLMz",
      "include_colab_link": true
    },
    "kernelspec": {
      "name": "python3",
      "display_name": "Python 3"
    }
  },
  "cells": [
    {
      "cell_type": "markdown",
      "metadata": {
        "id": "view-in-github",
        "colab_type": "text"
      },
      "source": [
        "<a href=\"https://colab.research.google.com/github/aditya270520/100Daysofpython/blob/main/second_largest.ipynb\" target=\"_parent\"><img src=\"https://colab.research.google.com/assets/colab-badge.svg\" alt=\"Open In Colab\"/></a>"
      ]
    },
    {
      "cell_type": "code",
      "metadata": {
        "colab": {
          "base_uri": "https://localhost:8080/"
        },
        "id": "vBo6LsPzZkfa",
        "outputId": "9e4775d8-d614-4628-9b3d-21a085c71681"
      },
      "source": [
        "nums = [5, 12, 54, 87, 55, 69, 23, 17]\n",
        "nums.remove(max(nums))\n",
        "second_largest = max(nums)\n",
        "print(second_largest)"
      ],
      "execution_count": 2,
      "outputs": [
        {
          "output_type": "stream",
          "text": [
            "69\n"
          ],
          "name": "stdout"
        }
      ]
    }
  ]
}