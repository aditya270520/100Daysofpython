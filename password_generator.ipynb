{
  "nbformat": 4,
  "nbformat_minor": 0,
  "metadata": {
    "colab": {
      "name": "password-generator.ipynb",
      "provenance": [],
      "authorship_tag": "ABX9TyO7EftDmPnIv+R1JFuN0Muy",
      "include_colab_link": true
    },
    "kernelspec": {
      "name": "python3",
      "display_name": "Python 3"
    }
  },
  "cells": [
    {
      "cell_type": "markdown",
      "metadata": {
        "id": "view-in-github",
        "colab_type": "text"
      },
      "source": [
        "<a href=\"https://colab.research.google.com/github/aditya270520/100Daysofpython/blob/main/password_generator.ipynb\" target=\"_parent\"><img src=\"https://colab.research.google.com/assets/colab-badge.svg\" alt=\"Open In Colab\"/></a>"
      ]
    },
    {
      "cell_type": "code",
      "metadata": {
        "colab": {
          "base_uri": "https://localhost:8080/"
        },
        "id": "zh-bIeV8pyeB",
        "outputId": "2546715e-b18e-4bcd-ce79-3b202c80fd53"
      },
      "source": [
        "import string\n",
        "import random\n",
        " \n",
        "def generate_password(size):\n",
        "   all_chars = string.ascii_letters + string.digits + string.punctuation\n",
        "   password = ''\n",
        "   for char in range(size):\n",
        "       rand_char = random.choice(all_chars)\n",
        "       password = password + rand_char\n",
        "   return password\n",
        " \n",
        "pass_len = int(input('How many characters in your password?'))\n",
        "new_password = generate_password(pass_len)\n",
        "print('Your new password: ', new_password)"
      ],
      "execution_count": 2,
      "outputs": [
        {
          "output_type": "stream",
          "text": [
            "How many characters in your password?8\n",
            "Your new password:  {r@e-xG9\n"
          ],
          "name": "stdout"
        }
      ]
    }
  ]
}