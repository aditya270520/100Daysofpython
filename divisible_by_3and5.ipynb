{
  "nbformat": 4,
  "nbformat_minor": 0,
  "metadata": {
    "colab": {
      "name": "divisible-by-3and5.ipynb",
      "provenance": [],
      "authorship_tag": "ABX9TyNcOZtrK+xl9Nptgeix2L40",
      "include_colab_link": true
    },
    "kernelspec": {
      "name": "python3",
      "display_name": "Python 3"
    }
  },
  "cells": [
    {
      "cell_type": "markdown",
      "metadata": {
        "id": "view-in-github",
        "colab_type": "text"
      },
      "source": [
        "<a href=\"https://colab.research.google.com/github/aditya270520/100Daysofpython/blob/main/divisible_by_3and5.ipynb\" target=\"_parent\"><img src=\"https://colab.research.google.com/assets/colab-badge.svg\" alt=\"Open In Colab\"/></a>"
      ]
    },
    {
      "cell_type": "code",
      "metadata": {
        "colab": {
          "base_uri": "https://localhost:8080/"
        },
        "id": "QyR6nPXFZhyE",
        "outputId": "76fc110b-2f33-4740-bfed-4913438cc3de"
      },
      "source": [
        "def divisible_by_3and5(num):\n",
        "   result = [ ]\n",
        "   for i in range(num):\n",
        "       if i%3 == 0 and i%5 == 0:\n",
        "           result.append(i)\n",
        "   return result\n",
        " \n",
        "num = int (input('Enter your number: '))\n",
        "result = divisible_by_3and5(num)\n",
        "print(result)"
      ],
      "execution_count": 1,
      "outputs": [
        {
          "output_type": "stream",
          "text": [
            "Enter your number: 99\n",
            "[0, 15, 30, 45, 60, 75, 90]\n"
          ],
          "name": "stdout"
        }
      ]
    }
  ]
}