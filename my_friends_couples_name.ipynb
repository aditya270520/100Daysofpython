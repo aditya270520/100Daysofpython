{
  "nbformat": 4,
  "nbformat_minor": 0,
  "metadata": {
    "colab": {
      "name": "my_friends_couples_name.ipynb",
      "provenance": [],
      "authorship_tag": "ABX9TyOf9ZF1oTGjretAIBhlG2qU",
      "include_colab_link": true
    },
    "kernelspec": {
      "name": "python3",
      "display_name": "Python 3"
    }
  },
  "cells": [
    {
      "cell_type": "markdown",
      "metadata": {
        "id": "view-in-github",
        "colab_type": "text"
      },
      "source": [
        "<a href=\"https://colab.research.google.com/github/aditya270520/100Daysofpython/blob/main/my_friends_couples_name.ipynb\" target=\"_parent\"><img src=\"https://colab.research.google.com/assets/colab-badge.svg\" alt=\"Open In Colab\"/></a>"
      ]
    },
    {
      "cell_type": "code",
      "metadata": {
        "colab": {
          "base_uri": "https://localhost:8080/"
        },
        "id": "VfCbq0miRLbG",
        "outputId": "b6da86fa-d135-49c2-bc6c-409413d75f52"
      },
      "source": [
        "a = \"parth\"\n",
        "b = \"gazal\"\n",
        "c = a[0:2] + b[2:5]\n",
        "\n",
        "d = \"sankalp\"\n",
        "e = \"priya\"\n",
        "f = d[0:2] + e[1:5]\n",
        "print(c)\n",
        "print(f)"
      ],
      "execution_count": 1,
      "outputs": [
        {
          "output_type": "stream",
          "text": [
            "pazal\n",
            "sariya\n"
          ],
          "name": "stdout"
        }
      ]
    }
  ]
}