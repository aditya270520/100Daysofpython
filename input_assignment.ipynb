{
  "nbformat": 4,
  "nbformat_minor": 0,
  "metadata": {
    "colab": {
      "name": "input_assignment.ipynb",
      "provenance": [],
      "authorship_tag": "ABX9TyMhoRb2u2Za8oZbQ91cwCal",
      "include_colab_link": true
    },
    "kernelspec": {
      "name": "python3",
      "display_name": "Python 3"
    }
  },
  "cells": [
    {
      "cell_type": "markdown",
      "metadata": {
        "id": "view-in-github",
        "colab_type": "text"
      },
      "source": [
        "<a href=\"https://colab.research.google.com/github/aditya270520/100Daysofpython/blob/main/input_assignment.ipynb\" target=\"_parent\"><img src=\"https://colab.research.google.com/assets/colab-badge.svg\" alt=\"Open In Colab\"/></a>"
      ]
    },
    {
      "cell_type": "code",
      "metadata": {
        "colab": {
          "base_uri": "https://localhost:8080/"
        },
        "id": "0jClBy3EbMg3",
        "outputId": "f54eb3d5-6a2f-4c14-de01-bbff59eaa4ca"
      },
      "source": [
        "name = input('What is your name?\\n')\n",
        "print ('Genius, %s.' % name)"
      ],
      "execution_count": 5,
      "outputs": [
        {
          "output_type": "stream",
          "text": [
            "What is your name?\n",
            "ADITYA BHUSHAN SHARMA\n",
            "Genius, ADITYA BHUSHAN SHARMA.\n"
          ],
          "name": "stdout"
        }
      ]
    }
  ]
}