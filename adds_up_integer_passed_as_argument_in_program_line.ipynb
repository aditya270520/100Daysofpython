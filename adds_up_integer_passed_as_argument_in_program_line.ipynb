{
  "nbformat": 4,
  "nbformat_minor": 0,
  "metadata": {
    "colab": {
      "name": "adds_up_integer_passed_as_argument_in_program_line.ipynb",
      "provenance": [],
      "authorship_tag": "ABX9TyOwlZlAkJ8tIqHNdmcLjyQc",
      "include_colab_link": true
    },
    "kernelspec": {
      "name": "python3",
      "display_name": "Python 3"
    }
  },
  "cells": [
    {
      "cell_type": "markdown",
      "metadata": {
        "id": "view-in-github",
        "colab_type": "text"
      },
      "source": [
        "<a href=\"https://colab.research.google.com/github/aditya270520/100Daysofpython/blob/main/adds_up_integer_passed_as_argument_in_program_line.ipynb\" target=\"_parent\"><img src=\"https://colab.research.google.com/assets/colab-badge.svg\" alt=\"Open In Colab\"/></a>"
      ]
    },
    {
      "cell_type": "code",
      "metadata": {
        "colab": {
          "base_uri": "https://localhost:8080/"
        },
        "id": "4S-qbl_VZASD",
        "outputId": "15cb0150-4c1b-4ff8-8a4f-cf233ec8113f"
      },
      "source": [
        "import sys\n",
        "try:\n",
        "    total = sum(int(arg) for arg in sys.argv[1:])\n",
        "    print ('sum =', total)\n",
        "except ValueError:\n",
        "    print ('Please supply integer arguments')"
      ],
      "execution_count": 1,
      "outputs": [
        {
          "output_type": "stream",
          "text": [
            "Please supply integer arguments\n"
          ],
          "name": "stdout"
        }
      ]
    }
  ]
}