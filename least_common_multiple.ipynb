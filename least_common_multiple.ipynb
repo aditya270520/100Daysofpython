{
  "nbformat": 4,
  "nbformat_minor": 0,
  "metadata": {
    "colab": {
      "name": "least-common-multiple.ipynb",
      "provenance": [],
      "authorship_tag": "ABX9TyPvh71vJ9t5Xn6AXBakiuIs",
      "include_colab_link": true
    },
    "kernelspec": {
      "name": "python3",
      "display_name": "Python 3"
    }
  },
  "cells": [
    {
      "cell_type": "markdown",
      "metadata": {
        "id": "view-in-github",
        "colab_type": "text"
      },
      "source": [
        "<a href=\"https://colab.research.google.com/github/aditya270520/100Daysofpython/blob/main/least_common_multiple.ipynb\" target=\"_parent\"><img src=\"https://colab.research.google.com/assets/colab-badge.svg\" alt=\"Open In Colab\"/></a>"
      ]
    },
    {
      "cell_type": "code",
      "metadata": {
        "colab": {
          "base_uri": "https://localhost:8080/"
        },
        "id": "MXV2bLWZ6ylQ",
        "outputId": "4caf90e1-72b3-496a-ea32-ad6c4c0d3a05"
      },
      "source": [
        "def calculate_lcm(x, y):\n",
        "\tlcm = max(x,y)\n",
        "\twhile lcm % x != 0 or lcm % y != 0:\n",
        "\t\tlcm += 1\n",
        "\treturn lcm\n",
        " \n",
        "num1 = int(input(\"First number: \"))\n",
        "num2 = int(input(\"Second number: \"))\n",
        "lcm = calculate_lcm(num1, num2)\n",
        " \n",
        "print(f\"LCM of {num1} and {num2} is: {lcm}\")\n"
      ],
      "execution_count": 1,
      "outputs": [
        {
          "output_type": "stream",
          "text": [
            "First number: 99\n",
            "Second number: 27\n",
            "LCM of 99 and 27 is: 297\n"
          ],
          "name": "stdout"
        }
      ]
    }
  ]
}