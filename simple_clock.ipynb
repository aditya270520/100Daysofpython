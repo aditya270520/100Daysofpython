{
  "nbformat": 4,
  "nbformat_minor": 0,
  "metadata": {
    "colab": {
      "name": "simple-clock.ipynb",
      "provenance": [],
      "authorship_tag": "ABX9TyMB+DVLFuU0P+1SX22kUG7o",
      "include_colab_link": true
    },
    "kernelspec": {
      "name": "python3",
      "display_name": "Python 3"
    }
  },
  "cells": [
    {
      "cell_type": "markdown",
      "metadata": {
        "id": "view-in-github",
        "colab_type": "text"
      },
      "source": [
        "<a href=\"https://colab.research.google.com/github/aditya270520/100Daysofpython/blob/main/simple_clock.ipynb\" target=\"_parent\"><img src=\"https://colab.research.google.com/assets/colab-badge.svg\" alt=\"Open In Colab\"/></a>"
      ]
    },
    {
      "cell_type": "code",
      "metadata": {
        "colab": {
          "base_uri": "https://localhost:8080/"
        },
        "id": "5qwyltK1OYl7",
        "outputId": "4bbaa556-4de9-4bc6-b96f-25902e85efb8"
      },
      "source": [
        "import time\n",
        " \n",
        "while True:\n",
        " time.sleep(1)\n",
        " print('Tick')"
      ],
      "execution_count": null,
      "outputs": [
        {
          "output_type": "stream",
          "text": [
            "Tick\n",
            "Tick\n",
            "Tick\n",
            "Tick\n",
            "Tick\n",
            "Tick\n",
            "Tick\n",
            "Tick\n",
            "Tick\n",
            "Tick\n",
            "Tick\n",
            "Tick\n",
            "Tick\n",
            "Tick\n",
            "Tick\n",
            "Tick\n",
            "Tick\n",
            "Tick\n",
            "Tick\n",
            "Tick\n",
            "Tick\n",
            "Tick\n"
          ],
          "name": "stdout"
        }
      ]
    }
  ]
}