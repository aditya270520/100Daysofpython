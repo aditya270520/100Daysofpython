{
  "nbformat": 4,
  "nbformat_minor": 0,
  "metadata": {
    "colab": {
      "name": "max-of-two-numbers.ipynb",
      "provenance": [],
      "authorship_tag": "ABX9TyMfomRL+ijeQbKsq2GcxyPh",
      "include_colab_link": true
    },
    "kernelspec": {
      "name": "python3",
      "display_name": "Python 3"
    }
  },
  "cells": [
    {
      "cell_type": "markdown",
      "metadata": {
        "id": "view-in-github",
        "colab_type": "text"
      },
      "source": [
        "<a href=\"https://colab.research.google.com/github/aditya270520/100Daysofpython/blob/main/max_of_two_numbers.ipynb\" target=\"_parent\"><img src=\"https://colab.research.google.com/assets/colab-badge.svg\" alt=\"Open In Colab\"/></a>"
      ]
    },
    {
      "cell_type": "code",
      "metadata": {
        "colab": {
          "base_uri": "https://localhost:8080/"
        },
        "id": "i1_d_u8PFL-a",
        "outputId": "7cb3b753-9626-4f58-c1a6-c85f1b6b7566"
      },
      "source": [
        "num1 = int(input(\"First number: \"))\n",
        "num2 = int(input(\"Second number: \"))\n",
        "largest = max(num1, num2)\n",
        "print(\"Largest number you entered is: \", largest)"
      ],
      "execution_count": 1,
      "outputs": [
        {
          "output_type": "stream",
          "text": [
            "First number: 27\n",
            "Second number: 18\n",
            "Largest number you entered is:  27\n"
          ],
          "name": "stdout"
        }
      ]
    }
  ]
}