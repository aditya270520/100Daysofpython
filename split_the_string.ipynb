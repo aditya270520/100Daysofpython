{
  "nbformat": 4,
  "nbformat_minor": 0,
  "metadata": {
    "colab": {
      "name": "split the string.ipynb",
      "provenance": [],
      "authorship_tag": "ABX9TyOLCvl1DsBZqImPC+PykPYz",
      "include_colab_link": true
    },
    "kernelspec": {
      "name": "python3",
      "display_name": "Python 3"
    }
  },
  "cells": [
    {
      "cell_type": "markdown",
      "metadata": {
        "id": "view-in-github",
        "colab_type": "text"
      },
      "source": [
        "<a href=\"https://colab.research.google.com/github/aditya270520/100Daysofpython/blob/main/split_the_string.ipynb\" target=\"_parent\"><img src=\"https://colab.research.google.com/assets/colab-badge.svg\" alt=\"Open In Colab\"/></a>"
      ]
    },
    {
      "cell_type": "code",
      "metadata": {
        "colab": {
          "base_uri": "https://localhost:8080/"
        },
        "id": "gZnyEYYfW7Um",
        "outputId": "93275ddf-83b1-41ff-ea0c-40dc77dda4bd"
      },
      "source": [
        "str ='Hello young Programmer'\n",
        "words = str.split()\n",
        "print(words)\n",
        "\n",
        "together = ' '.join(words)\n",
        "print(together)"
      ],
      "execution_count": 1,
      "outputs": [
        {
          "output_type": "stream",
          "text": [
            "['Hello', 'young', 'Programmer']\n",
            "Hello young Programmer\n"
          ],
          "name": "stdout"
        }
      ]
    }
  ]
}