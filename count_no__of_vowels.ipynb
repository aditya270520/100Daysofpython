{
  "nbformat": 4,
  "nbformat_minor": 0,
  "metadata": {
    "colab": {
      "name": "count_no._of_vowels.ipynb",
      "provenance": [],
      "authorship_tag": "ABX9TyOlJX4hsOxlf7idxGk/lINw",
      "include_colab_link": true
    },
    "kernelspec": {
      "name": "python3",
      "display_name": "Python 3"
    }
  },
  "cells": [
    {
      "cell_type": "markdown",
      "metadata": {
        "id": "view-in-github",
        "colab_type": "text"
      },
      "source": [
        "<a href=\"https://colab.research.google.com/github/aditya270520/100Daysofpython/blob/main/count_no__of_vowels.ipynb\" target=\"_parent\"><img src=\"https://colab.research.google.com/assets/colab-badge.svg\" alt=\"Open In Colab\"/></a>"
      ]
    },
    {
      "cell_type": "code",
      "metadata": {
        "colab": {
          "base_uri": "https://localhost:8080/"
        },
        "id": "2nJF4JCLAezf",
        "outputId": "2745d16e-d974-4b82-a827-d4874aa537e4"
      },
      "source": [
        "vowels = 'aeiou'\n",
        "\n",
        "ip_str = 'Hello, have you tried our tutorial section yet?'\n",
        "\n",
        "ip_str = ip_str.casefold()\n",
        "\n",
        "count = {}.fromkeys(vowels,0)\n",
        "\n",
        "for char in ip_str:\n",
        "   if char in count:\n",
        "       count[char] += 1\n",
        "\n",
        "print(count)"
      ],
      "execution_count": 1,
      "outputs": [
        {
          "output_type": "stream",
          "text": [
            "{'a': 2, 'e': 5, 'i': 3, 'o': 5, 'u': 3}\n"
          ],
          "name": "stdout"
        }
      ]
    }
  ]
}