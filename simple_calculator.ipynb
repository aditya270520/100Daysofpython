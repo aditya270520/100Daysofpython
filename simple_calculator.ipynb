{
  "nbformat": 4,
  "nbformat_minor": 0,
  "metadata": {
    "colab": {
      "name": "simple-calculator.ipynb",
      "provenance": [],
      "authorship_tag": "ABX9TyM/aR00nwP78qJgCSXS2qIr",
      "include_colab_link": true
    },
    "kernelspec": {
      "name": "python3",
      "display_name": "Python 3"
    }
  },
  "cells": [
    {
      "cell_type": "markdown",
      "metadata": {
        "id": "view-in-github",
        "colab_type": "text"
      },
      "source": [
        "<a href=\"https://colab.research.google.com/github/aditya270520/100Daysofpython/blob/main/simple_calculator.ipynb\" target=\"_parent\"><img src=\"https://colab.research.google.com/assets/colab-badge.svg\" alt=\"Open In Colab\"/></a>"
      ]
    },
    {
      "cell_type": "code",
      "metadata": {
        "colab": {
          "base_uri": "https://localhost:8080/"
        },
        "id": "zaIamQyzEiOo",
        "outputId": "4ec45eab-c798-4095-ee5e-c2f9d3942b42"
      },
      "source": [
        "def add(num1, num2):\n",
        " return num1 + num2\n",
        " \n",
        "def subtract(num1, num2):\n",
        " return num1 - num2\n",
        " \n",
        "def multiply(num1, num2):\n",
        " return num1 * num2\n",
        " \n",
        "def divide(num1, num2):\n",
        " return num1 / num2\n",
        " \n",
        "def modulo(num1, num2):\n",
        " return num1 % num2\n",
        " \n",
        "num1 = int(input(\"Enter first number: \"))\n",
        "operation = input(\"What you want to do(+, -, *, /, %):\")\n",
        "num2 = int(input(\"Enter second number: \"))\n",
        " \n",
        "result = 0\n",
        "if operation == '+':\n",
        " result = add(num1,num2)\n",
        "elif operation == '-':\n",
        " result = subtract(num1,num2)\n",
        "elif operation == '*':\n",
        " result = multiply(num1,num2)\n",
        "elif operation == '/':\n",
        " result = divide(num1,num2)\n",
        "elif operation == '%':\n",
        " result = modulo(num1,num2)\n",
        "else:\n",
        " print(\"Please enter: +, -, *, / or %\")\n",
        " \n",
        "print(num1, operation, num2, '=', result)"
      ],
      "execution_count": 3,
      "outputs": [
        {
          "output_type": "stream",
          "text": [
            "Enter first number: 999999999\n",
            "What you want to do(+, -, *, /, %):/\n",
            "Enter second number: 9\n",
            "999999999 / 9 = 111111111.0\n"
          ],
          "name": "stdout"
        }
      ]
    }
  ]
}