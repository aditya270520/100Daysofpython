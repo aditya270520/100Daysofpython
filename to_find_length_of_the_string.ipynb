{
  "nbformat": 4,
  "nbformat_minor": 0,
  "metadata": {
    "colab": {
      "name": "to_find_length_of_the_string.ipynb",
      "provenance": [],
      "mount_file_id": "1EnqgASMBjIN2s8vbJXHyTJFZKX6kM4h0",
      "authorship_tag": "ABX9TyM9/wyYpSxB6CUm8dCevHOI",
      "include_colab_link": true
    },
    "kernelspec": {
      "name": "python3",
      "display_name": "Python 3"
    }
  },
  "cells": [
    {
      "cell_type": "markdown",
      "metadata": {
        "id": "view-in-github",
        "colab_type": "text"
      },
      "source": [
        "<a href=\"https://colab.research.google.com/github/aditya270520/100Daysofpython/blob/main/to_find_length_of_the_string.ipynb\" target=\"_parent\"><img src=\"https://colab.research.google.com/assets/colab-badge.svg\" alt=\"Open In Colab\"/></a>"
      ]
    },
    {
      "cell_type": "code",
      "metadata": {
        "colab": {
          "base_uri": "https://localhost:8080/"
        },
        "id": "MavwMx67qY_R",
        "outputId": "d0b5d4c7-0a3e-4d93-e94f-511d465e6ca9"
      },
      "source": [
        "str = input(\"Enter a string: \")\n",
        "\n",
        "counter = 0\n",
        "for s in str:\n",
        "      counter = counter+1\n",
        "print(\"Length of the input string is:\", counter)"
      ],
      "execution_count": 7,
      "outputs": [
        {
          "output_type": "stream",
          "text": [
            "Enter a string: aditya\n",
            "Length of the input string is: 6\n"
          ],
          "name": "stdout"
        }
      ]
    }
  ]
}