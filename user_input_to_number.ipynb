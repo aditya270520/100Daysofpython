{
  "nbformat": 4,
  "nbformat_minor": 0,
  "metadata": {
    "colab": {
      "name": "user-input-to-number.ipynb",
      "provenance": [],
      "authorship_tag": "ABX9TyNqnTJs3sj1CcigA7kPYPeY",
      "include_colab_link": true
    },
    "kernelspec": {
      "name": "python3",
      "display_name": "Python 3"
    }
  },
  "cells": [
    {
      "cell_type": "markdown",
      "metadata": {
        "id": "view-in-github",
        "colab_type": "text"
      },
      "source": [
        "<a href=\"https://colab.research.google.com/github/aditya270520/100Daysofpython/blob/main/user_input_to_number.ipynb\" target=\"_parent\"><img src=\"https://colab.research.google.com/assets/colab-badge.svg\" alt=\"Open In Colab\"/></a>"
      ]
    },
    {
      "cell_type": "code",
      "metadata": {
        "colab": {
          "base_uri": "https://localhost:8080/"
        },
        "id": "fyMnf9q21uMl",
        "outputId": "81e76ef5-1a60-464a-817d-60e354d749d7"
      },
      "source": [
        "int_text = input(\"Give me an integer number: \")\n",
        "int_num = int(int_text)\n",
        "float_text = input(\"Give me a float  number: \")\n",
        "float_num = float(float_text)\n",
        "result = int_num * float_num\n",
        "print(\"Your result is: \", result)"
      ],
      "execution_count": 1,
      "outputs": [
        {
          "output_type": "stream",
          "text": [
            "Give me an integer number: 9\n",
            "Give me a float  number: 999\n",
            "Your result is:  8991.0\n"
          ],
          "name": "stdout"
        }
      ]
    }
  ]
}