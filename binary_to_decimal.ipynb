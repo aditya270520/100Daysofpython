{
  "nbformat": 4,
  "nbformat_minor": 0,
  "metadata": {
    "colab": {
      "name": "binary_to_decimal.ipynb",
      "provenance": [],
      "authorship_tag": "ABX9TyMOULDX3FWcZKupzuqqAPo5",
      "include_colab_link": true
    },
    "kernelspec": {
      "name": "python3",
      "display_name": "Python 3"
    }
  },
  "cells": [
    {
      "cell_type": "markdown",
      "metadata": {
        "id": "view-in-github",
        "colab_type": "text"
      },
      "source": [
        "<a href=\"https://colab.research.google.com/github/aditya270520/100Daysofpython/blob/main/binary_to_decimal.ipynb\" target=\"_parent\"><img src=\"https://colab.research.google.com/assets/colab-badge.svg\" alt=\"Open In Colab\"/></a>"
      ]
    },
    {
      "cell_type": "code",
      "metadata": {
        "colab": {
          "base_uri": "https://localhost:8080/"
        },
        "id": "Vf3VDPjS8-c8",
        "outputId": "67ee45c4-712b-43a3-982a-42ac820bc22a"
      },
      "source": [
        "def dec_to_binary(n):\n",
        "\tbits = []\n",
        "\t\n",
        "\twhile n > 0:\n",
        "\t\tbits.append(n%2)\n",
        "\t\tn = n // 2\n",
        "\tbits.reverse()\n",
        "\t\n",
        "\tbinary = ''\n",
        "\tfor bit in bits:\n",
        "\t\tbinary += str(bit)\n",
        "\treturn binary\n",
        "\n",
        "\n",
        "num = int(input(\"Your decimal number: \"))\n",
        "binary = dec_to_binary(num)\n",
        "print(\"Your binary is:\", binary)"
      ],
      "execution_count": 2,
      "outputs": [
        {
          "output_type": "stream",
          "text": [
            "Your decimal number: 5\n",
            "Your binary is: 101\n"
          ],
          "name": "stdout"
        }
      ]
    }
  ]
}