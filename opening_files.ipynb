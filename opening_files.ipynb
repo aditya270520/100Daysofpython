{
  "nbformat": 4,
  "nbformat_minor": 0,
  "metadata": {
    "colab": {
      "name": "opening_files.ipynb",
      "provenance": [],
      "authorship_tag": "ABX9TyPJZa7B5r1DQnkUWAi2X5VB",
      "include_colab_link": true
    },
    "kernelspec": {
      "name": "python3",
      "display_name": "Python 3"
    }
  },
  "cells": [
    {
      "cell_type": "markdown",
      "metadata": {
        "id": "view-in-github",
        "colab_type": "text"
      },
      "source": [
        "<a href=\"https://colab.research.google.com/github/aditya270520/100Daysofpython/blob/main/opening_files.ipynb\" target=\"_parent\"><img src=\"https://colab.research.google.com/assets/colab-badge.svg\" alt=\"Open In Colab\"/></a>"
      ]
    },
    {
      "cell_type": "code",
      "metadata": {
        "id": "iiWIUfTaGfVP"
      },
      "source": [
        "import glob\n",
        "python_files = glob.glob('*.py')\n",
        "for file_name in sorted(python_files):\n",
        "    print ('    ------' + file_name)\n",
        "\n",
        "    with open(file_name) as f:\n",
        "        for line in f:\n",
        "            print ('    ' + line.rstrip())\n",
        "\n",
        "    print()"
      ],
      "execution_count": 3,
      "outputs": []
    }
  ]
}