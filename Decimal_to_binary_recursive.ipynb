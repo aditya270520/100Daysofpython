{
  "nbformat": 4,
  "nbformat_minor": 0,
  "metadata": {
    "colab": {
      "name": "Decimal-to-binary-recursive.ipynb",
      "provenance": [],
      "authorship_tag": "ABX9TyN6ViVCfjmJkGBDYybtllU9",
      "include_colab_link": true
    },
    "kernelspec": {
      "name": "python3",
      "display_name": "Python 3"
    }
  },
  "cells": [
    {
      "cell_type": "markdown",
      "metadata": {
        "id": "view-in-github",
        "colab_type": "text"
      },
      "source": [
        "<a href=\"https://colab.research.google.com/github/aditya270520/100Daysofpython/blob/main/Decimal_to_binary_recursive.ipynb\" target=\"_parent\"><img src=\"https://colab.research.google.com/assets/colab-badge.svg\" alt=\"Open In Colab\"/></a>"
      ]
    },
    {
      "cell_type": "code",
      "metadata": {
        "colab": {
          "base_uri": "https://localhost:8080/"
        },
        "id": "t8NpKDVT2Jj0",
        "outputId": "f8a7aae0-6b39-4151-d22b-720baf69c021"
      },
      "source": [
        "num = int(input(\"Your decimal number: \"))\n",
        "dec_to_binary(num)\n",
        "print(\" \")"
      ],
      "execution_count": 6,
      "outputs": [
        {
          "output_type": "stream",
          "text": [
            "Your decimal number: 5\n",
            "101 \n"
          ],
          "name": "stdout"
        }
      ]
    }
  ]
}