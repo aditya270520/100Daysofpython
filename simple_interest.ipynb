{
  "nbformat": 4,
  "nbformat_minor": 0,
  "metadata": {
    "colab": {
      "name": "simple_interest.ipynb",
      "provenance": [],
      "authorship_tag": "ABX9TyO1yJGnB2zsoLZytIhXW9IU",
      "include_colab_link": true
    },
    "kernelspec": {
      "name": "python3",
      "display_name": "Python 3"
    }
  },
  "cells": [
    {
      "cell_type": "markdown",
      "metadata": {
        "id": "view-in-github",
        "colab_type": "text"
      },
      "source": [
        "<a href=\"https://colab.research.google.com/github/aditya270520/100Daysofpython/blob/main/simple_interest.ipynb\" target=\"_parent\"><img src=\"https://colab.research.google.com/assets/colab-badge.svg\" alt=\"Open In Colab\"/></a>"
      ]
    },
    {
      "cell_type": "code",
      "metadata": {
        "id": "OJtekXNy-Wwp",
        "colab": {
          "base_uri": "https://localhost:8080/"
        },
        "outputId": "6d31607a-de8d-4c51-9e78-2cf18dc6a675"
      },
      "source": [
        "principle = int(input(\"Money you borrowed: \"))\n",
        "interest_rate = float(input(\"Interest Rate: \"))\n",
        "time = float(input(\"Overall Duration: \"))\n",
        "\n",
        "simple_interest = principle * (interest_rate/100) * time\n",
        "\n",
        "print(\"Simple interest is:\", simple_interest)"
      ],
      "execution_count": 1,
      "outputs": [
        {
          "output_type": "stream",
          "text": [
            "Money you borrowed: 10000\n",
            "Interest Rate: 2\n",
            "Overall Duration: 2\n",
            "Simple interest is: 400.0\n"
          ],
          "name": "stdout"
        }
      ]
    }
  ]
}