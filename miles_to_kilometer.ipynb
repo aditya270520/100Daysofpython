{
  "nbformat": 4,
  "nbformat_minor": 0,
  "metadata": {
    "colab": {
      "name": "miles_to_kilometer.ipynb",
      "provenance": [],
      "authorship_tag": "ABX9TyO5cX8W/KYdLm5sPS5jU3MK",
      "include_colab_link": true
    },
    "kernelspec": {
      "name": "python3",
      "display_name": "Python 3"
    }
  },
  "cells": [
    {
      "cell_type": "markdown",
      "metadata": {
        "id": "view-in-github",
        "colab_type": "text"
      },
      "source": [
        "<a href=\"https://colab.research.google.com/github/aditya270520/100Daysofpython/blob/main/miles_to_kilometer.ipynb\" target=\"_parent\"><img src=\"https://colab.research.google.com/assets/colab-badge.svg\" alt=\"Open In Colab\"/></a>"
      ]
    },
    {
      "cell_type": "code",
      "metadata": {
        "colab": {
          "base_uri": "https://localhost:8080/"
        },
        "id": "i8uK5Jbx9tW7",
        "outputId": "31551e23-9fa6-401d-e592-e704f7c91f26"
      },
      "source": [
        "miles = float(input(\"Enter distance in miles: \"))\n",
        "kilometers = miles*1.609344\n",
        "print(\"Distance in Kilometers:\", kilometers)"
      ],
      "execution_count": 1,
      "outputs": [
        {
          "output_type": "stream",
          "text": [
            "Enter distance in miles: 2000\n",
            "Distance in Kilometers: 3218.688\n"
          ],
          "name": "stdout"
        }
      ]
    }
  ]
}