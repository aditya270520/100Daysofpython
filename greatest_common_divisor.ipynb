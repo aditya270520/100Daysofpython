{
  "nbformat": 4,
  "nbformat_minor": 0,
  "metadata": {
    "colab": {
      "name": "greatest-common-divisor.ipynb",
      "provenance": [],
      "authorship_tag": "ABX9TyP+s6tKAg+exTy6zKRMhni7",
      "include_colab_link": true
    },
    "kernelspec": {
      "name": "python3",
      "display_name": "Python 3"
    }
  },
  "cells": [
    {
      "cell_type": "markdown",
      "metadata": {
        "id": "view-in-github",
        "colab_type": "text"
      },
      "source": [
        "<a href=\"https://colab.research.google.com/github/aditya270520/100Daysofpython/blob/main/greatest_common_divisor.ipynb\" target=\"_parent\"><img src=\"https://colab.research.google.com/assets/colab-badge.svg\" alt=\"Open In Colab\"/></a>"
      ]
    },
    {
      "cell_type": "code",
      "metadata": {
        "colab": {
          "base_uri": "https://localhost:8080/"
        },
        "id": "5iGAowdqhdx6",
        "outputId": "8f21cfd6-f09b-42cb-8c7b-f722ad00a5e3"
      },
      "source": [
        "import math\n",
        "\n",
        "a = int(input(\"Enter first number:\"))\n",
        "b = int(input(\"Enter second number:\"))\n",
        "\n",
        "gcd = math.gcd(a,b)\n",
        "print(gcd)"
      ],
      "execution_count": 3,
      "outputs": [
        {
          "output_type": "stream",
          "text": [
            "Enter first number:9\n",
            "Enter second number:27\n",
            "9\n",
            "Enter first number:9\n",
            "Enter second number:27\n",
            "9\n"
          ],
          "name": "stdout"
        }
      ]
    }
  ]
}