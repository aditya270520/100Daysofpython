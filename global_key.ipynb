{
  "nbformat": 4,
  "nbformat_minor": 0,
  "metadata": {
    "colab": {
      "name": "global-key.ipynb",
      "provenance": [],
      "authorship_tag": "ABX9TyNGDC1zP9T4FNTr38jFyhy+",
      "include_colab_link": true
    },
    "kernelspec": {
      "name": "python3",
      "display_name": "Python 3"
    }
  },
  "cells": [
    {
      "cell_type": "markdown",
      "metadata": {
        "id": "view-in-github",
        "colab_type": "text"
      },
      "source": [
        "<a href=\"https://colab.research.google.com/github/aditya270520/100Daysofpython/blob/main/global_key.ipynb\" target=\"_parent\"><img src=\"https://colab.research.google.com/assets/colab-badge.svg\" alt=\"Open In Colab\"/></a>"
      ]
    },
    {
      "cell_type": "code",
      "metadata": {
        "colab": {
          "base_uri": "https://localhost:8080/"
        },
        "id": "uJDwM7NW0xLh",
        "outputId": "65665cc1-bafd-4035-c61a-a0b4a17fe453"
      },
      "source": [
        "x = 5\n",
        " \n",
        "def double_global_x(x):\n",
        " x = 2*x\n",
        " return x\n",
        " \n",
        "print('use global keyword')\n",
        "result = double_global_x(x)\n",
        "print(result)\n",
        "print('Updated value of x:', x)"
      ],
      "execution_count": 1,
      "outputs": [
        {
          "output_type": "stream",
          "text": [
            "use global keyword\n",
            "10\n",
            "Updated value of x: 5\n"
          ],
          "name": "stdout"
        }
      ]
    }
  ]
}