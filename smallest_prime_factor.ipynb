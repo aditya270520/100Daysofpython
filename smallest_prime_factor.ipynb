{
  "nbformat": 4,
  "nbformat_minor": 0,
  "metadata": {
    "colab": {
      "name": "smallest-prime-factor.ipynb",
      "provenance": [],
      "authorship_tag": "ABX9TyO/KbsKROme+r6Y1e/NL93B",
      "include_colab_link": true
    },
    "kernelspec": {
      "name": "python3",
      "display_name": "Python 3"
    }
  },
  "cells": [
    {
      "cell_type": "markdown",
      "metadata": {
        "id": "view-in-github",
        "colab_type": "text"
      },
      "source": [
        "<a href=\"https://colab.research.google.com/github/aditya270520/100Daysofpython/blob/main/smallest_prime_factor.ipynb\" target=\"_parent\"><img src=\"https://colab.research.google.com/assets/colab-badge.svg\" alt=\"Open In Colab\"/></a>"
      ]
    },
    {
      "cell_type": "code",
      "metadata": {
        "colab": {
          "base_uri": "https://localhost:8080/"
        },
        "id": "iKEXBxTrQO5f",
        "outputId": "bc7bbf93-0187-43e8-cd5e-08714ea08c91"
      },
      "source": [
        "def get_smallest_factor(num):\n",
        "   factor = 2\n",
        "   while num % factor != 0:\n",
        "       factor += 1\n",
        "   return factor\n",
        " \n",
        "num = int(input('Enter your number: '))\n",
        " \n",
        "smallest_factor = get_smallest_factor(num)\n",
        " \n",
        "print('The smallest prime factor is: ', smallest_factor)"
      ],
      "execution_count": 1,
      "outputs": [
        {
          "output_type": "stream",
          "text": [
            "Enter your number: 99999\n",
            "The smallest prime factor is:  3\n"
          ],
          "name": "stdout"
        }
      ]
    }
  ]
}