{
  "nbformat": 4,
  "nbformat_minor": 0,
  "metadata": {
    "colab": {
      "name": "reverse-the-string.ipynb",
      "provenance": [],
      "authorship_tag": "ABX9TyNfy2fnfVuYitI0MXOijX7x",
      "include_colab_link": true
    },
    "kernelspec": {
      "name": "python3",
      "display_name": "Python 3"
    }
  },
  "cells": [
    {
      "cell_type": "markdown",
      "metadata": {
        "id": "view-in-github",
        "colab_type": "text"
      },
      "source": [
        "<a href=\"https://colab.research.google.com/github/aditya270520/100Daysofpython/blob/main/reverse_the_string.ipynb\" target=\"_parent\"><img src=\"https://colab.research.google.com/assets/colab-badge.svg\" alt=\"Open In Colab\"/></a>"
      ]
    },
    {
      "cell_type": "code",
      "metadata": {
        "colab": {
          "base_uri": "https://localhost:8080/"
        },
        "id": "nGTDrn-gW-oQ",
        "outputId": "aa2635e5-a9a1-447d-f75b-468f7cc57626"
      },
      "source": [
        "my_string = \"You are my Hero\"\n",
        " \n",
        "print('Access by index')\n",
        "print('-------------')\n",
        "print(my_string[0])\n",
        "print(my_string[1])\n",
        "print(my_string[4])\n",
        " \n",
        "print('Run a for loop')\n",
        "print('-------------')\n",
        "for char in my_string:\n",
        "   print(char)\n",
        " \n",
        "print('now join strings')\n",
        "print('-------------')\n",
        "print('hello' + 'world')\n",
        "print('h'+'w')"
      ],
      "execution_count": 1,
      "outputs": [
        {
          "output_type": "stream",
          "text": [
            "Access by index\n",
            "-------------\n",
            "Y\n",
            "o\n",
            "a\n",
            "Run a for loop\n",
            "-------------\n",
            "Y\n",
            "o\n",
            "u\n",
            " \n",
            "a\n",
            "r\n",
            "e\n",
            " \n",
            "m\n",
            "y\n",
            " \n",
            "H\n",
            "e\n",
            "r\n",
            "o\n",
            "now join strings\n",
            "-------------\n",
            "helloworld\n",
            "hw\n"
          ],
          "name": "stdout"
        }
      ]
    }
  ]
}