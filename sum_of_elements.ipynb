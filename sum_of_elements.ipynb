{
  "nbformat": 4,
  "nbformat_minor": 0,
  "metadata": {
    "colab": {
      "name": "sum-of-elements.ipynb",
      "provenance": [],
      "authorship_tag": "ABX9TyOfy3Qbfr8lEx8LA3J8nG+C",
      "include_colab_link": true
    },
    "kernelspec": {
      "name": "python3",
      "display_name": "Python 3"
    }
  },
  "cells": [
    {
      "cell_type": "markdown",
      "metadata": {
        "id": "view-in-github",
        "colab_type": "text"
      },
      "source": [
        "<a href=\"https://colab.research.google.com/github/aditya270520/100Daysofpython/blob/main/sum_of_elements.ipynb\" target=\"_parent\"><img src=\"https://colab.research.google.com/assets/colab-badge.svg\" alt=\"Open In Colab\"/></a>"
      ]
    },
    {
      "cell_type": "code",
      "metadata": {
        "colab": {
          "base_uri": "https://localhost:8080/"
        },
        "id": "azMa1P68N3Mw",
        "outputId": "63b80bb5-5787-4d06-ded6-e6fa034fbe89"
      },
      "source": [
        "nums = [13, 11, 16, 78, 31, 128]\n",
        "\n",
        "total = sum(nums)\n",
        "print(total)"
      ],
      "execution_count": 1,
      "outputs": [
        {
          "output_type": "stream",
          "text": [
            "277\n"
          ],
          "name": "stdout"
        }
      ]
    }
  ]
}