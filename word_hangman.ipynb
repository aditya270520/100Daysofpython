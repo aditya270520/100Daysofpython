{
  "nbformat": 4,
  "nbformat_minor": 0,
  "metadata": {
    "colab": {
      "name": "word-hangman.ipynb",
      "provenance": [],
      "authorship_tag": "ABX9TyOUEWwtudfAQewBed2KcSNf",
      "include_colab_link": true
    },
    "kernelspec": {
      "name": "python3",
      "display_name": "Python 3"
    }
  },
  "cells": [
    {
      "cell_type": "markdown",
      "metadata": {
        "id": "view-in-github",
        "colab_type": "text"
      },
      "source": [
        "<a href=\"https://colab.research.google.com/github/aditya270520/100Daysofpython/blob/main/word_hangman.ipynb\" target=\"_parent\"><img src=\"https://colab.research.google.com/assets/colab-badge.svg\" alt=\"Open In Colab\"/></a>"
      ]
    },
    {
      "cell_type": "code",
      "metadata": {
        "colab": {
          "base_uri": "https://localhost:8080/"
        },
        "id": "LJFjzZvcLDAI",
        "outputId": "8cfa588c-3b4b-4b60-bc22-a26223fdef9b"
      },
      "source": [
        "import random\n",
        " \n",
        "def selected_a_word():\n",
        "    words = ['working', 'hard', 'makes', 'things', 'easier', 'congrats', 'programming', 'hero']\n",
        "    word = words[random.randint(0, len(words)-1)]\n",
        "    return word\n",
        " \n",
        "def get_blank_word(word):\n",
        "    blank_word = word[0]\n",
        "    for i in range(1, len(word)):\n",
        "            blank_word += '_'\n",
        "    return blank_word\n",
        " \n",
        "def word_hangman(word, so_far, letter, try_left):\n",
        "    bad_try = True\n",
        "    for i in range(0, len(word)):\n",
        "            if word[i] == letter:\n",
        "                    so_far = so_far[:i]+letter+so_far[i+1:]\n",
        "                    bad_try = False\n",
        "    if bad_try is True:\n",
        "            try_left -= 1\n",
        "            print('Wrong Try Left: ', try_left)\n",
        "    print('so far you got: ', so_far)\n",
        "    if word == so_far:\n",
        "            print('YAY!!! You Win')\n",
        "    elif try_left == 0:\n",
        "            print('Opps!!! You Lost')\n",
        "    else:\n",
        "     next_letter = input ('Enter your next letter: ')\n",
        "     word_hangman(word, so_far, next_letter, try_left)\n",
        " \n",
        "# play the game\n",
        "word = selected_a_word()\n",
        "clue_word = get_blank_word(word)\n",
        "word_hangman(word, clue_word, word[0], 5)"
      ],
      "execution_count": 1,
      "outputs": [
        {
          "output_type": "stream",
          "text": [
            "so far you got:  e___e_\n",
            "Enter your next letter: lse\n",
            "Wrong Try Left:  4\n",
            "so far you got:  e___e_\n",
            "Enter your next letter: easier\n",
            "Wrong Try Left:  3\n",
            "so far you got:  e___e_\n",
            "Enter your next letter: aditya\n",
            "Wrong Try Left:  2\n",
            "so far you got:  e___e_\n",
            "Enter your next letter: programming\n",
            "Wrong Try Left:  1\n",
            "so far you got:  e___e_\n",
            "Enter your next letter: cool\n",
            "Wrong Try Left:  0\n",
            "so far you got:  e___e_\n",
            "Opps!!! You Lost\n"
          ],
          "name": "stdout"
        }
      ]
    }
  ]
}