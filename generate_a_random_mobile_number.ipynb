{
  "nbformat": 4,
  "nbformat_minor": 0,
  "metadata": {
    "colab": {
      "name": "generate_a_random_mobile_number.ipynb",
      "provenance": [],
      "authorship_tag": "ABX9TyP3nWI5OLRq6qCV6+5U2Hcp",
      "include_colab_link": true
    },
    "kernelspec": {
      "name": "python3",
      "display_name": "Python 3"
    }
  },
  "cells": [
    {
      "cell_type": "markdown",
      "metadata": {
        "id": "view-in-github",
        "colab_type": "text"
      },
      "source": [
        "<a href=\"https://colab.research.google.com/github/aditya270520/100Daysofpython/blob/main/generate_a_random_mobile_number.ipynb\" target=\"_parent\"><img src=\"https://colab.research.google.com/assets/colab-badge.svg\" alt=\"Open In Colab\"/></a>"
      ]
    },
    {
      "cell_type": "code",
      "metadata": {
        "colab": {
          "base_uri": "https://localhost:8080/"
        },
        "id": "bOUlxy7KNHN9",
        "outputId": "c2162781-9220-4138-ef15-3d5b71d2f66a"
      },
      "source": [
        "import random\n",
        "\n",
        "print(random.randint(1000000000,9999999999))"
      ],
      "execution_count": 1,
      "outputs": [
        {
          "output_type": "stream",
          "text": [
            "2830947850\n"
          ],
          "name": "stdout"
        }
      ]
    }
  ]
}