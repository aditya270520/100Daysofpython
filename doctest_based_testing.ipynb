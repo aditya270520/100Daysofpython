{
  "nbformat": 4,
  "nbformat_minor": 0,
  "metadata": {
    "colab": {
      "name": "doctest-based-testing.ipynb",
      "provenance": [],
      "authorship_tag": "ABX9TyP5zpwTi6e8RLbnIEBlKVOz",
      "include_colab_link": true
    },
    "kernelspec": {
      "name": "python3",
      "display_name": "Python 3"
    }
  },
  "cells": [
    {
      "cell_type": "markdown",
      "metadata": {
        "id": "view-in-github",
        "colab_type": "text"
      },
      "source": [
        "<a href=\"https://colab.research.google.com/github/aditya270520/100Daysofpython/blob/main/doctest_based_testing.ipynb\" target=\"_parent\"><img src=\"https://colab.research.google.com/assets/colab-badge.svg\" alt=\"Open In Colab\"/></a>"
      ]
    },
    {
      "cell_type": "code",
      "metadata": {
        "colab": {
          "base_uri": "https://localhost:8080/"
        },
        "id": "EsqWGaYorUCB",
        "outputId": "c13cd890-05a6-4d47-d952-c12243f5415e"
      },
      "source": [
        "def median(pool):\n",
        "    '''Statistical median to demonstrate doctest.\n",
        "    >>> median([2, 9, 9, 7, 9, 2, 4, 5, 8])\n",
        "    6 #change to 7 in order to pass the test\n",
        "    '''\n",
        "    copy = sorted(pool)\n",
        "    size = len(copy)\n",
        "    if size % 2 == 1:\n",
        "        return copy[int((size - 1) / 2)]\n",
        "    else:\n",
        "        return (copy[int(size/2 - 1)] + copy[int(size/2)]) / 2\n",
        "if __name__ == '__main__':\n",
        "    import doctest\n",
        "    doctest.testmod()\n"
      ],
      "execution_count": 1,
      "outputs": [
        {
          "output_type": "stream",
          "text": [
            "**********************************************************************\n",
            "File \"__main__\", line 3, in __main__.median\n",
            "Failed example:\n",
            "    median([2, 9, 9, 7, 9, 2, 4, 5, 8])\n",
            "Expected:\n",
            "    6 #change to 7 in order to pass the test\n",
            "Got:\n",
            "    7\n",
            "**********************************************************************\n",
            "1 items had failures:\n",
            "   1 of   1 in __main__.median\n",
            "***Test Failed*** 1 failures.\n"
          ],
          "name": "stdout"
        }
      ]
    }
  ]
}