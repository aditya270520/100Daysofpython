{
  "nbformat": 4,
  "nbformat_minor": 0,
  "metadata": {
    "colab": {
      "name": "second-largest-number.ipynb",
      "provenance": [],
      "authorship_tag": "ABX9TyMCEzGCEYfh1D6QGLK9ITEh",
      "include_colab_link": true
    },
    "kernelspec": {
      "name": "python3",
      "display_name": "Python 3"
    }
  },
  "cells": [
    {
      "cell_type": "markdown",
      "metadata": {
        "id": "view-in-github",
        "colab_type": "text"
      },
      "source": [
        "<a href=\"https://colab.research.google.com/github/aditya270520/100Daysofpython/blob/main/second_largest_number.ipynb\" target=\"_parent\"><img src=\"https://colab.research.google.com/assets/colab-badge.svg\" alt=\"Open In Colab\"/></a>"
      ]
    },
    {
      "cell_type": "code",
      "metadata": {
        "colab": {
          "base_uri": "https://localhost:8080/"
        },
        "id": "peGILip3Q32W",
        "outputId": "dc395468-0e25-4eec-931b-db9d5c1a8036"
      },
      "source": [
        "def get_second_largest(nums):\n",
        "   largest = nums[0]\n",
        "   second_largest = nums[0]\n",
        "   for i in range(1,len(nums)):\n",
        "       if nums[i] > largest:\n",
        "           second_largest = largest\n",
        "           largest = nums[i]\n",
        "       elif nums[i] > second_largest:\n",
        "           second_largest = nums[i]\n",
        "   return second_largest\n",
        " \n",
        "my_nums = [44,11,83,29,25,76,88]\n",
        "second_largest = get_second_largest(my_nums)\n",
        "print(\"Second highest number is : \",second_largest)"
      ],
      "execution_count": 1,
      "outputs": [
        {
          "output_type": "stream",
          "text": [
            "Second highest number is :  83\n"
          ],
          "name": "stdout"
        }
      ]
    }
  ]
}