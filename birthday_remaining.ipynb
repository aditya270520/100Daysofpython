{
  "nbformat": 4,
  "nbformat_minor": 0,
  "metadata": {
    "colab": {
      "name": "birthday-remaining.ipynb",
      "provenance": [],
      "authorship_tag": "ABX9TyOGkUS+2m11OV+uDSVi9Ak4",
      "include_colab_link": true
    },
    "kernelspec": {
      "name": "python3",
      "display_name": "Python 3"
    }
  },
  "cells": [
    {
      "cell_type": "markdown",
      "metadata": {
        "id": "view-in-github",
        "colab_type": "text"
      },
      "source": [
        "<a href=\"https://colab.research.google.com/github/aditya270520/100Daysofpython/blob/main/birthday_remaining.ipynb\" target=\"_parent\"><img src=\"https://colab.research.google.com/assets/colab-badge.svg\" alt=\"Open In Colab\"/></a>"
      ]
    },
    {
      "cell_type": "code",
      "metadata": {
        "colab": {
          "base_uri": "https://localhost:8080/"
        },
        "id": "q8qyJVg6epmZ",
        "outputId": "f7386abb-02e1-447c-f713-f7efbe3db7dd"
      },
      "source": [
        "from datetime import datetime\n",
        "import time\n",
        " \n",
        "def get_user_birthday():\n",
        " date_str = input(\"Enter your birth date in DD/MM/YYYY: \")\n",
        " try:\n",
        "   birthday = datetime.strptime(date_str, \"%d/%m/%Y\")\n",
        " except TypeError:\n",
        "   birthday = datetime.datetime(*(time.strptime(date_str, \"%d/%m/%Y\")[0:6]))\n",
        " return birthday\n",
        " \n",
        "def days_remaining(birth_date):\n",
        "  now = datetime.now()\n",
        "  current_year = datetime(now.year, birth_date.month, birth_date.day)\n",
        "  days = (current_year - now).days\n",
        "  if days < 0:\n",
        "    next_year = datetime(now.year+1, birth_date.month, birth_date.day)\n",
        "    days = (next_year - now).days\n",
        "  return days\n",
        " \n",
        "birthday = get_user_birthday()\n",
        "next_birthday = days_remaining(birthday)\n",
        "print(\"Your birthday is coming in: \", next_birthday, \" days\")"
      ],
      "execution_count": 1,
      "outputs": [
        {
          "output_type": "stream",
          "text": [
            "Enter your birth date in DD/MM/YYYY: 27/09/9999\n",
            "Your birthday is coming in:  199  days\n"
          ],
          "name": "stdout"
        }
      ]
    }
  ]
}