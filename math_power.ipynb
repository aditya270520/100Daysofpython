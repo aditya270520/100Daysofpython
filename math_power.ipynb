{
  "nbformat": 4,
  "nbformat_minor": 0,
  "metadata": {
    "colab": {
      "name": "math-power.ipynb",
      "provenance": [],
      "authorship_tag": "ABX9TyOp+ySVIkJzhn1RTgPnlo7P",
      "include_colab_link": true
    },
    "kernelspec": {
      "name": "python3",
      "display_name": "Python 3"
    }
  },
  "cells": [
    {
      "cell_type": "markdown",
      "metadata": {
        "id": "view-in-github",
        "colab_type": "text"
      },
      "source": [
        "<a href=\"https://colab.research.google.com/github/aditya270520/100Daysofpython/blob/main/math_power.ipynb\" target=\"_parent\"><img src=\"https://colab.research.google.com/assets/colab-badge.svg\" alt=\"Open In Colab\"/></a>"
      ]
    },
    {
      "cell_type": "code",
      "metadata": {
        "colab": {
          "base_uri": "https://localhost:8080/"
        },
        "id": "wti1QffGI8_B",
        "outputId": "6efc8dae-3b9c-4f3e-ee88-c283b75027c9"
      },
      "source": [
        "base_num = int(input('Give me the base number: '))\n",
        "power_num = int(input('Give me the power number: '))\n",
        "result = pow(base_num, power_num)\n",
        "print('Your result is: ', result)\n"
      ],
      "execution_count": 1,
      "outputs": [
        {
          "output_type": "stream",
          "text": [
            "Give me the base number: 99\n",
            "Give me the power number: 2\n",
            "Your result is:  9801\n"
          ],
          "name": "stdout"
        }
      ]
    }
  ]
}