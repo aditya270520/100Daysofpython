{
  "nbformat": 4,
  "nbformat_minor": 0,
  "metadata": {
    "colab": {
      "name": "cow-bull-game.ipynb",
      "provenance": [],
      "authorship_tag": "ABX9TyOPwj4E9Qnme/xB3dZj9vnJ",
      "include_colab_link": true
    },
    "kernelspec": {
      "name": "python3",
      "display_name": "Python 3"
    }
  },
  "cells": [
    {
      "cell_type": "markdown",
      "metadata": {
        "id": "view-in-github",
        "colab_type": "text"
      },
      "source": [
        "<a href=\"https://colab.research.google.com/github/aditya270520/100Daysofpython/blob/main/cow_bull_game.ipynb\" target=\"_parent\"><img src=\"https://colab.research.google.com/assets/colab-badge.svg\" alt=\"Open In Colab\"/></a>"
      ]
    },
    {
      "cell_type": "code",
      "metadata": {
        "colab": {
          "base_uri": "https://localhost:8080/"
        },
        "id": "cqEoMS3CniP_",
        "outputId": "83077eee-2d25-4d0f-cfe5-8c4d4d4f9aae"
      },
      "source": [
        "import random\n",
        "\n",
        "secret_number = str(random.randint(1000, 9999))\n",
        "print(\"Guess the number. It contains 4 digits.\")\n",
        "\n",
        "remaining_try = 7\n",
        "\n",
        "def get_bulls_cows(number, user_guess):\n",
        "   bulls_cows = [0,0] #cows, then bulls\n",
        "   for i in range(len(number)):\n",
        "       if user_guess[i] == number[i]:\n",
        "           bulls_cows[0] += 1\n",
        "       elif user_guess[i] in number:\n",
        "           bulls_cows[1] += 1\n",
        "   return bulls_cows\n",
        "\n",
        "while remaining_try > 0:\n",
        "   player_guess = input(\"Enter your guess: \")\n",
        "  \n",
        "   if player_guess == secret_number:\n",
        "       print(\"Yay, you guessed it!\")\n",
        "       print(\"YOU WIN.\")\n",
        "       break\n",
        "   else:\n",
        "       bulls_cows = get_bulls_cows(secret_number,player_guess)\n",
        "      \n",
        "       print(\"Bulls: \",bulls_cows[0])\n",
        "       print(\"Cows: \",bulls_cows[1])\n",
        "\n",
        "       remaining_try -= 1\n",
        "\n",
        "       if remaining_try < 1:\n",
        "           print(\"You lost the game.\")\n",
        "           break"
      ],
      "execution_count": null,
      "outputs": [
        {
          "output_type": "stream",
          "text": [
            "Guess the number. It contains 4 digits.\n",
            "Enter your guess: 2580\n",
            "Bulls:  0\n",
            "Cows:  2\n",
            "Enter your guess: 9999\n",
            "Bulls:  0\n",
            "Cows:  0\n"
          ],
          "name": "stdout"
        }
      ]
    }
  ]
}