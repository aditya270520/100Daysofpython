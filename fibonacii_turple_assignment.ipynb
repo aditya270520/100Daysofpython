{
  "nbformat": 4,
  "nbformat_minor": 0,
  "metadata": {
    "colab": {
      "name": "fibonacii_turple_assignment.ipynb",
      "provenance": [],
      "authorship_tag": "ABX9TyNeKnzYOizbNFbvVHPq/wgf",
      "include_colab_link": true
    },
    "kernelspec": {
      "name": "python3",
      "display_name": "Python 3"
    }
  },
  "cells": [
    {
      "cell_type": "markdown",
      "metadata": {
        "id": "view-in-github",
        "colab_type": "text"
      },
      "source": [
        "<a href=\"https://colab.research.google.com/github/aditya270520/100Daysofpython/blob/main/fibonacii_turple_assignment.ipynb\" target=\"_parent\"><img src=\"https://colab.research.google.com/assets/colab-badge.svg\" alt=\"Open In Colab\"/></a>"
      ]
    },
    {
      "cell_type": "code",
      "metadata": {
        "colab": {
          "base_uri": "https://localhost:8080/"
        },
        "id": "OXrEuzKrkOm9",
        "outputId": "e8ae859b-b511-4b5a-cfbd-2bbfd621a3df"
      },
      "source": [
        "parents, babies = (1, 1)\n",
        "while babies < 100:\n",
        "    print ('This generation has {0} babies'.format(babies))\n",
        "    parents, babies = (babies, parents + babies)\n"
      ],
      "execution_count": 1,
      "outputs": [
        {
          "output_type": "stream",
          "text": [
            "This generation has 1 babies\n",
            "This generation has 2 babies\n",
            "This generation has 3 babies\n",
            "This generation has 5 babies\n",
            "This generation has 8 babies\n",
            "This generation has 13 babies\n",
            "This generation has 21 babies\n",
            "This generation has 34 babies\n",
            "This generation has 55 babies\n",
            "This generation has 89 babies\n"
          ],
          "name": "stdout"
        }
      ]
    }
  ]
}