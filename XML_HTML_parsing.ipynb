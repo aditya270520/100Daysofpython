{
  "nbformat": 4,
  "nbformat_minor": 0,
  "metadata": {
    "colab": {
      "name": "XML/HTML-parsing.ipynb",
      "provenance": [],
      "authorship_tag": "ABX9TyNARtXDkjZRWhhf3+ezEndJ",
      "include_colab_link": true
    },
    "kernelspec": {
      "name": "python3",
      "display_name": "Python 3"
    }
  },
  "cells": [
    {
      "cell_type": "markdown",
      "metadata": {
        "id": "view-in-github",
        "colab_type": "text"
      },
      "source": [
        "<a href=\"https://colab.research.google.com/github/aditya270520/100Daysofpython/blob/main/XML_HTML_parsing.ipynb\" target=\"_parent\"><img src=\"https://colab.research.google.com/assets/colab-badge.svg\" alt=\"Open In Colab\"/></a>"
      ]
    },
    {
      "cell_type": "code",
      "metadata": {
        "colab": {
          "base_uri": "https://localhost:8080/"
        },
        "id": "lfVnUdUsdjnn",
        "outputId": "a42d433c-9d5c-415f-af9a-d15df29bb338"
      },
      "source": [
        "dinner_recipe = '''<html><body><table>\n",
        "<tr><th>amt</th><th>unit</th><th>item</th></tr>\n",
        "<tr><td>24</td><td>slices</td><td>baguette</td></tr>\n",
        "<tr><td>2+</td><td>tbsp</td><td>olive oil</td></tr>\n",
        "<tr><td>1</td><td>cup</td><td>tomatoes</td></tr>\n",
        "<tr><td>1</td><td>jar</td><td>pesto</td></tr>\n",
        "</table></body></html>'''\n",
        "\n",
        "import xml.etree.ElementTree as etree\n",
        "tree = etree.fromstring(dinner_recipe)\n",
        "\n",
        "pantry = set(['olive oil', 'pesto'])\n",
        "for ingredient in tree.getiterator('tr'):\n",
        "    amt, unit, item = ingredient\n",
        "    if item.tag == \"td\" and item.text not in pantry:\n",
        "        print (\"%s: %s %s\" % (item.text, amt.text, unit.text))"
      ],
      "execution_count": 1,
      "outputs": [
        {
          "output_type": "stream",
          "text": [
            "baguette: 24 slices\n",
            "tomatoes: 1 cup\n"
          ],
          "name": "stdout"
        }
      ]
    }
  ]
}