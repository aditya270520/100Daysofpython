{
  "nbformat": 4,
  "nbformat_minor": 0,
  "metadata": {
    "colab": {
      "name": "palindrome-number.ipynb",
      "provenance": [],
      "authorship_tag": "ABX9TyPAVLwYkX91JUetUhVZ8KfH",
      "include_colab_link": true
    },
    "kernelspec": {
      "name": "python3",
      "display_name": "Python 3"
    }
  },
  "cells": [
    {
      "cell_type": "markdown",
      "metadata": {
        "id": "view-in-github",
        "colab_type": "text"
      },
      "source": [
        "<a href=\"https://colab.research.google.com/github/aditya270520/100Daysofpython/blob/main/palindrome_number.ipynb\" target=\"_parent\"><img src=\"https://colab.research.google.com/assets/colab-badge.svg\" alt=\"Open In Colab\"/></a>"
      ]
    },
    {
      "cell_type": "code",
      "metadata": {
        "colab": {
          "base_uri": "https://localhost:8080/"
        },
        "id": "4Q4oSPQyw0PN",
        "outputId": "696d048f-4e70-4b99-9b24-b07408078aa8"
      },
      "source": [
        "my_str = input('String to check: ')\n",
        "rev_str = my_str[::-1]\n",
        "\n",
        "if my_str == rev_str:\n",
        "  print(\"It is palindrome\")\n",
        "else:\n",
        "  print(\"It is not palindrome\")\n"
      ],
      "execution_count": 1,
      "outputs": [
        {
          "output_type": "stream",
          "text": [
            "String to check: madam\n",
            "It is palindrome\n"
          ],
          "name": "stdout"
        }
      ]
    }
  ]
}