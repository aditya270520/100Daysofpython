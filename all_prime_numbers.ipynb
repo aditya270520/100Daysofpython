{
  "nbformat": 4,
  "nbformat_minor": 0,
  "metadata": {
    "colab": {
      "name": "all-prime-numbers.ipynb",
      "provenance": [],
      "authorship_tag": "ABX9TyN/uY0EcTmgTAFUe6ZQ3DP4",
      "include_colab_link": true
    },
    "kernelspec": {
      "name": "python3",
      "display_name": "Python 3"
    }
  },
  "cells": [
    {
      "cell_type": "markdown",
      "metadata": {
        "id": "view-in-github",
        "colab_type": "text"
      },
      "source": [
        "<a href=\"https://colab.research.google.com/github/aditya270520/100Daysofpython/blob/main/all_prime_numbers.ipynb\" target=\"_parent\"><img src=\"https://colab.research.google.com/assets/colab-badge.svg\" alt=\"Open In Colab\"/></a>"
      ]
    },
    {
      "cell_type": "code",
      "metadata": {
        "colab": {
          "base_uri": "https://localhost:8080/"
        },
        "id": "EVq1DfGrQP4P",
        "outputId": "9ee68282-b03f-49f7-c822-9c035edd2d83"
      },
      "source": [
        " def is_prime(num):\n",
        "  for i in range(2,num):\n",
        "      if (num % i) == 0:\n",
        "          return False\n",
        "  return True\n",
        " \n",
        "def all_primes(num):\n",
        "  primes = []\n",
        "  for n in range(2,num+1):\n",
        "      if is_prime(n) is True:\n",
        "          primes.append(n)\n",
        "  return primes\n",
        " \n",
        "num = int(input(\"Enter upper limit: \"))\n",
        "primes = all_primes(num)\n",
        "print(primes)"
      ],
      "execution_count": 1,
      "outputs": [
        {
          "output_type": "stream",
          "text": [
            "Enter upper limit: 100\n",
            "[2, 3, 5, 7, 11, 13, 17, 19, 23, 29, 31, 37, 41, 43, 47, 53, 59, 61, 67, 71, 73, 79, 83, 89, 97]\n"
          ],
          "name": "stdout"
        }
      ]
    }
  ]
}