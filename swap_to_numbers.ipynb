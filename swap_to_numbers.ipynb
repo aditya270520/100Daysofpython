{
  "nbformat": 4,
  "nbformat_minor": 0,
  "metadata": {
    "colab": {
      "name": "swap-to-numbers.ipynb",
      "provenance": [],
      "authorship_tag": "ABX9TyPOm/my18kT3Bwnu+yFe1jg",
      "include_colab_link": true
    },
    "kernelspec": {
      "name": "python3",
      "display_name": "Python 3"
    }
  },
  "cells": [
    {
      "cell_type": "markdown",
      "metadata": {
        "id": "view-in-github",
        "colab_type": "text"
      },
      "source": [
        "<a href=\"https://colab.research.google.com/github/aditya270520/100Daysofpython/blob/main/swap_to_numbers.ipynb\" target=\"_parent\"><img src=\"https://colab.research.google.com/assets/colab-badge.svg\" alt=\"Open In Colab\"/></a>"
      ]
    },
    {
      "cell_type": "code",
      "metadata": {
        "colab": {
          "base_uri": "https://localhost:8080/"
        },
        "id": "ZB2N8Vm21tNj",
        "outputId": "673412b0-77e2-42f6-fe4f-49105d52935b"
      },
      "source": [
        "a = 5\n",
        "b = 7\n",
        "print('a, b', a, b)\n",
        "temp = a\n",
        "a = b\n",
        "b = temp\n",
        "print('a, b', a, b)\n"
      ],
      "execution_count": 1,
      "outputs": [
        {
          "output_type": "stream",
          "text": [
            "a, b 5 7\n",
            "a, b 7 5\n"
          ],
          "name": "stdout"
        }
      ]
    }
  ]
}