{
  "nbformat": 4,
  "nbformat_minor": 0,
  "metadata": {
    "colab": {
      "name": "sum-of-numbers.ipynb",
      "provenance": [],
      "authorship_tag": "ABX9TyNWfQ5vlEA+hl7mGuzKKSsn",
      "include_colab_link": true
    },
    "kernelspec": {
      "name": "python3",
      "display_name": "Python 3"
    }
  },
  "cells": [
    {
      "cell_type": "markdown",
      "metadata": {
        "id": "view-in-github",
        "colab_type": "text"
      },
      "source": [
        "<a href=\"https://colab.research.google.com/github/aditya270520/100Daysofpython/blob/main/sum_of_numbers.ipynb\" target=\"_parent\"><img src=\"https://colab.research.google.com/assets/colab-badge.svg\" alt=\"Open In Colab\"/></a>"
      ]
    },
    {
      "cell_type": "code",
      "metadata": {
        "colab": {
          "base_uri": "https://localhost:8080/"
        },
        "id": "G0PsnEkBZixq",
        "outputId": "4d22c9db-c540-46f7-b5e3-219ed2c99e60"
      },
      "source": [
        "def get_sum(nums):\n",
        "   sum = 0\n",
        "   for num in nums:\n",
        "       sum = sum + num\n",
        "   return sum\n",
        " \n",
        "\n",
        "nums = [13,89,65,42,12,11,56]\n",
        " \n",
        "total = get_sum(nums)\n",
        "print(\"The total of each elements:\",total)"
      ],
      "execution_count": 1,
      "outputs": [
        {
          "output_type": "stream",
          "text": [
            "The total of each elements: 288\n"
          ],
          "name": "stdout"
        }
      ]
    }
  ]
}