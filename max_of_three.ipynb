{
  "nbformat": 4,
  "nbformat_minor": 0,
  "metadata": {
    "colab": {
      "name": "max-of-three.ipynb",
      "provenance": [],
      "authorship_tag": "ABX9TyOZc9NPjTquZW1tlPuOu90n",
      "include_colab_link": true
    },
    "kernelspec": {
      "name": "python3",
      "display_name": "Python 3"
    }
  },
  "cells": [
    {
      "cell_type": "markdown",
      "metadata": {
        "id": "view-in-github",
        "colab_type": "text"
      },
      "source": [
        "<a href=\"https://colab.research.google.com/github/aditya270520/100Daysofpython/blob/main/max_of_three.ipynb\" target=\"_parent\"><img src=\"https://colab.research.google.com/assets/colab-badge.svg\" alt=\"Open In Colab\"/></a>"
      ]
    },
    {
      "cell_type": "code",
      "metadata": {
        "colab": {
          "base_uri": "https://localhost:8080/"
        },
        "id": "Je1GKTO2kAat",
        "outputId": "f8f35313-a960-479c-e597-5e48e70e7018"
      },
      "source": [
        "num1 = int(input(\"First number: \"))\n",
        "num2 = int(input(\"Second number: \"))\n",
        "num3 = int(input(\"Third number: \"))\n",
        " \n",
        "largest = num1\n",
        " \n",
        "if (num2 >= num1) and (num2 >= num3):\n",
        "   largest = num2\n",
        "elif (num3 >= num1) and (num3 >= num2):\n",
        "   largest = num3\n",
        "else:\n",
        "   largest = num1\n",
        " \n",
        "print(\"Largest number you entered is: \",largest)"
      ],
      "execution_count": 2,
      "outputs": [
        {
          "output_type": "stream",
          "text": [
            "First number: 81\n",
            "Second number: 9\n",
            "Third number: 27\n",
            "Largest number you entered is:  81\n"
          ],
          "name": "stdout"
        }
      ]
    }
  ]
}